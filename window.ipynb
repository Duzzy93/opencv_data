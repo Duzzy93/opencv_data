{
 "cells": [
  {
   "cell_type": "code",
   "execution_count": 2,
   "id": "cc49fb68",
   "metadata": {},
   "outputs": [],
   "source": [
    "import tkinter as tk\n",
    "\n",
    "# 창 생성\n",
    "window = tk.Tk()\n",
    "window.title(\"나의 첫 번째 윈도우 창\")\n",
    "window.geometry(\"400x300\")  # 가로 400, 세로 300\n",
    "\n",
    "# 라벨 추가\n",
    "label = tk.Label(window, text=\"Hello, Python GUI!\", font=(\"Arial\", 16))\n",
    "label.pack(pady=20)\n",
    "\n",
    "# 윈도우 실행\n",
    "window.mainloop()"
   ]
  }
 ],
 "metadata": {
  "kernelspec": {
   "display_name": "my_opencv",
   "language": "python",
   "name": "my_opencv"
  },
  "language_info": {
   "codemirror_mode": {
    "name": "ipython",
    "version": 3
   },
   "file_extension": ".py",
   "mimetype": "text/x-python",
   "name": "python",
   "nbconvert_exporter": "python",
   "pygments_lexer": "ipython3",
   "version": "3.11.13"
  }
 },
 "nbformat": 4,
 "nbformat_minor": 5
}

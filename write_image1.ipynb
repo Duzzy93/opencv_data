{
 "cells": [
  {
   "cell_type": "code",
   "execution_count": 2,
   "id": "cc49fb68",
   "metadata": {},
   "outputs": [],
   "source": [
    "import cv2"
   ]
  },
  {
   "cell_type": "code",
   "execution_count": 11,
   "id": "21d8e685",
   "metadata": {},
   "outputs": [
    {
     "name": "stdout",
     "output_type": "stream",
     "text": [
      "저장 완료\n"
     ]
    }
   ],
   "source": [
    "image = cv2.imread(\"images/read_color.jpg\", cv2.IMREAD_COLOR)\n",
    "if image is None: raise Exception(\"영상 파일 읽기 에러\")\n",
    "\n",
    "params_jpg = (cv2.IMWRITE_JPEG_QUALITY, 5)        # JPEG 화질 설정\n",
    "params_png = [cv2.IMWRITE_PNG_COMPRESSION, 9]       # PNG 압축 레벨 설정\n",
    "\n",
    "## 행렬을 영상 파일로 저장\n",
    "cv2.imwrite(\"out_images/write_test1.jpg\", image)       # 디폴트는 95\n",
    "cv2.imwrite(\"out_images/write_test2.jpg\", image, params_jpg) # 지정 화질로 저장\n",
    "cv2.imwrite(\"out_images/write_test3.png\", image, params_png)\n",
    "cv2.imwrite(\"out_images/write_test4.bmp\", image)\n",
    "print(\"저장 완료\")"
   ]
  }
 ],
 "metadata": {
  "kernelspec": {
   "display_name": "my_opencv",
   "language": "python",
   "name": "my_opencv"
  },
  "language_info": {
   "codemirror_mode": {
    "name": "ipython",
    "version": 3
   },
   "file_extension": ".py",
   "mimetype": "text/x-python",
   "name": "python",
   "nbconvert_exporter": "python",
   "pygments_lexer": "ipython3",
   "version": "3.11.13"
  }
 },
 "nbformat": 4,
 "nbformat_minor": 5
}

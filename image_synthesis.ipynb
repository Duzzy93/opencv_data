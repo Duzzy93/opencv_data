{
 "cells": [
  {
   "cell_type": "code",
   "execution_count": 1,
   "id": "cc49fb68",
   "metadata": {},
   "outputs": [],
   "source": [
    "import numpy as np, cv2"
   ]
  },
  {
   "cell_type": "code",
   "execution_count": null,
   "id": "70066d16",
   "metadata": {},
   "outputs": [
    {
     "data": {
      "text/plain": [
       "-1"
      ]
     },
     "execution_count": 5,
     "metadata": {},
     "output_type": "execute_result"
    }
   ],
   "source": [
    "image1 = cv2.imread(\"images/add1.jpg\", cv2.IMREAD_GRAYSCALE)   # 영상 읽기\n",
    "image2 = cv2.imread(\"images/add2.jpg\", cv2.IMREAD_GRAYSCALE)\n",
    "if image1 is None or image2 is None: raise Exception(\"영상 파일 읽기 오류 발생\")\n",
    "\n",
    "# 영상 합성\n",
    "alpha, beta = 0.6, 0.7                                        # 곱샘 비율\n",
    "add_img1 = cv2.add(image1 , image2)                            # 두 영상 단순 더하기\n",
    "add_img2 = cv2.add(image1 * alpha , image2 * beta)             # 두영상 비율에 따른 더하기\n",
    "add_img2 = np.clip(add_img2, 0, 255).astype(\"uint8\")           # saturation 처리\n",
    "add_img3 = cv2.addWeighted(image1, alpha, image2, beta, 0)     # 두영상 비율에 따른 더하기\n",
    "\n",
    "titles = ['image1','image2','add_img1','add_img2','add_img3']\n",
    "for t in titles: cv2.imshow(t, eval(t))\n",
    "cv2.waitKey(0)\n"
   ]
  }
 ],
 "metadata": {
  "kernelspec": {
   "display_name": "my_opencv",
   "language": "python",
   "name": "my_opencv"
  },
  "language_info": {
   "codemirror_mode": {
    "name": "ipython",
    "version": 3
   },
   "file_extension": ".py",
   "mimetype": "text/x-python",
   "name": "python",
   "nbconvert_exporter": "python",
   "pygments_lexer": "ipython3",
   "version": "3.11.13"
  }
 },
 "nbformat": 4,
 "nbformat_minor": 5
}

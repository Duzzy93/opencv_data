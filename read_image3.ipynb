{
 "cells": [
  {
   "cell_type": "code",
   "execution_count": 1,
   "id": "cc49fb68",
   "metadata": {},
   "outputs": [],
   "source": [
    "import cv2\n",
    "from Common.utils import print_matInfo"
   ]
  },
  {
   "cell_type": "code",
   "execution_count": 5,
   "id": "677cc4f6",
   "metadata": {},
   "outputs": [
    {
     "name": "stdout",
     "output_type": "stream",
     "text": [
      "16/32비트 영상 행렬 좌표(10, 10) 화소값\n",
      "16bit unchanged 원소 자료형 <class 'numpy.uint16'>\n",
      "16bit unchanged 화소값(3원소) [48573 34438 23387]\n",
      "32bit unchanged 원소 자료형 <class 'numpy.float32'>\n",
      "32bit unchanged 화소값(3원소) [0.7456989  0.52237624 0.36376417]\n",
      "\n",
      "16bit unchanged 정보:\n",
      " - Shape: (300, 400, 3)\n",
      " - Dtype: uint16\n",
      " - Size: 360000\n",
      " - Type: <class 'numpy.ndarray'>\n",
      "32bit unchanged 정보:\n",
      " - Shape: (300, 400, 3)\n",
      " - Dtype: float32\n",
      " - Size: 360000\n",
      " - Type: <class 'numpy.ndarray'>\n"
     ]
    },
    {
     "data": {
      "text/plain": [
       "-1"
      ]
     },
     "execution_count": 5,
     "metadata": {},
     "output_type": "execute_result"
    }
   ],
   "source": [
    "title1, title2 = \"16bit unchanged\", '32bit unchanged'\n",
    "color2unchanged1 = cv2.imread(\"images/read_16.tif\", cv2.IMREAD_UNCHANGED)\n",
    "color2unchanged2 = cv2.imread(\"images/read_32.tif\", cv2.IMREAD_UNCHANGED)\n",
    "if color2unchanged1 is None or color2unchanged2 is None:\n",
    "    raise Exception(\"영상파일 읽기 에러\")\n",
    "\n",
    "print(\"16/32비트 영상 행렬 좌표(10, 10) 화소값\")\n",
    "print(title1, \"원소 자료형\", type(color2unchanged1[10][10][0]))\n",
    "print(title1, \"화소값(3원소)\", color2unchanged1[10, 10])\n",
    "print(title2, \"원소 자료형\", type(color2unchanged2[10][10][0]))\n",
    "print(title2, \"화소값(3원소)\", color2unchanged2[10, 10])\n",
    "print()\n",
    "\n",
    "print_matInfo(title1, color2unchanged1)\n",
    "print_matInfo(title2, color2unchanged2)\n",
    "cv2.imshow(title1, color2unchanged1)\n",
    "cv2.imshow(title2, (color2unchanged2 * 255).astype('uint8'))\n",
    "cv2.waitKey(0)\n"
   ]
  }
 ],
 "metadata": {
  "kernelspec": {
   "display_name": "my_opencv",
   "language": "python",
   "name": "my_opencv"
  },
  "language_info": {
   "codemirror_mode": {
    "name": "ipython",
    "version": 3
   },
   "file_extension": ".py",
   "mimetype": "text/x-python",
   "name": "python",
   "nbconvert_exporter": "python",
   "pygments_lexer": "ipython3",
   "version": "3.11.13"
  }
 },
 "nbformat": 4,
 "nbformat_minor": 5
}

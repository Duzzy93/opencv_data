{
 "cells": [
  {
   "cell_type": "code",
   "execution_count": 1,
   "id": "cc49fb68",
   "metadata": {},
   "outputs": [],
   "source": [
    "import cv2\n",
    "from Common.utils import put_string"
   ]
  },
  {
   "cell_type": "code",
   "execution_count": null,
   "id": "3bf98eac",
   "metadata": {},
   "outputs": [
    {
     "ename": "",
     "evalue": "",
     "output_type": "error",
     "traceback": [
      "\u001b[1;31m현재 셀 또는 이전 셀에서 코드를 실행하는 동안 Kernel이 충돌했습니다. \n",
      "\u001b[1;31m셀의 코드를 검토하여 가능한 오류 원인을 식별하세요. \n",
      "\u001b[1;31m자세한 내용을 보려면 <a href='https://aka.ms/vscodeJupyterKernelCrash'>여기</a>를 클릭하세요. \n",
      "\u001b[1;31m자세한 내용은 Jupyter <a href='command:jupyter.viewOutput'>로그</a>를 참조하세요."
     ]
    }
   ],
   "source": [
    "def zoom_bar(value):\n",
    "    global capture\n",
    "    capture.set(cv2.CAP_PROP_ZOOM, value) # 줌 설정 \n",
    "\n",
    "def focus_bar(value):\n",
    "    global capture\n",
    "    capture.set(cv2.CAP_PROP_FOCUS, value)\n",
    "\n",
    "capture = cv2.VideoCapture(0)\t\t\t\t\t\t\t\t# 0번 카메라 연결\n",
    "if capture.isOpened() is None: raise Exception(\"카메라 연결 안됨\")\n",
    "\n",
    "capture.set(cv2.CAP_PROP_FRAME_WIDTH, 400)      # 카메라 프레임 너비\n",
    "capture.set(cv2.CAP_PROP_FRAME_HEIGHT, 300)     # 카메라 프레임 높이\n",
    "capture.set(cv2.CAP_PROP_AUTOFOCUS, 0)          # 오토포커싱 중지\n",
    "capture.set(cv2.CAP_PROP_BRIGHTNESS, 100)       # 프레임 밝기 초기화\n",
    "\n",
    "title = \"Change Camera Properties\"              # 윈도우 이름 지정\n",
    "cv2.namedWindow(title)                          # 윈도우 생성 - 반드시 생성 해야함\n",
    "cv2.createTrackbar(\"zoom\" , title, 0, 10, zoom_bar)\n",
    "cv2.createTrackbar(\"focus\", title, 0, 40, focus_bar)\n",
    "\n",
    "while True:\n",
    "    ret, frame = capture.read()                 # 카메라 영상 받기\n",
    "    if not ret: break\n",
    "    if cv2.waitKey(30) >= 0: break\n",
    "\n",
    "    zoom = int(capture.get(cv2.CAP_PROP_ZOOM))\n",
    "    focus = int(capture.get(cv2.CAP_PROP_FOCUS))\n",
    "    put_string(frame, \"zoom : \" , (10, 240), zoom)   # 줌 값 표시\n",
    "    put_string(frame, \"focus : \", (10, 270), focus)    # 초점 값 표시 \n",
    "    cv2.imshow(title, frame)\n",
    "\n",
    "capture.release()"
   ]
  }
 ],
 "metadata": {
  "kernelspec": {
   "display_name": "my_opencv",
   "language": "python",
   "name": "my_opencv"
  },
  "language_info": {
   "codemirror_mode": {
    "name": "ipython",
    "version": 3
   },
   "file_extension": ".py",
   "mimetype": "text/x-python",
   "name": "python",
   "nbconvert_exporter": "python",
   "pygments_lexer": "ipython3",
   "version": "3.11.13"
  }
 },
 "nbformat": 4,
 "nbformat_minor": 5
}

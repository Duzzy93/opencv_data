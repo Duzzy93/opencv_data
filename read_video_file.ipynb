{
 "cells": [
  {
   "cell_type": "code",
   "execution_count": 2,
   "id": "cc49fb68",
   "metadata": {},
   "outputs": [],
   "source": [
    "import cv2\n",
    "from Common.utils import put_string"
   ]
  },
  {
   "cell_type": "code",
   "execution_count": null,
   "id": "ee4cb28e",
   "metadata": {},
   "outputs": [],
   "source": [
    "capture = cv2.VideoCapture(\"images/test.mp4\")\t\t\t\t\t\t\t\t\t\t\t# 동영상 파일 개방\n",
    "if not capture.isOpened(): raise Exception(\"동영상 파일 개방 안됨\")\t# 예외 처리\n",
    "\n",
    "frame_rate = capture.get(cv2.CAP_PROP_FPS)\t\t\t\t\t\t\t\t\t\t\t\t# 초당 프레임 수\n",
    "delay = int(1000 / frame_rate)\t\t\t\t\t\t\t\t\t\t\t\t\t\t\t\t\t\t# 지연 시간\n",
    "frame_cnt = 0\t\t\t\t\t\t\t\t\t\t\t\t\t\t\t\t\t\t\t\t\t\t\t\t\t\t\t# 현재 프레임 번호\n",
    "\n",
    "while True:\n",
    "\tret, frame = capture.read()\n",
    "\tif not ret or cv2.waitKey(delay) >= 0: break\t\t\t\t\t\t\t\t\t\t# 프레임 간 지연 시간 지정\n",
    "\tblue, green, red = cv2.split(frame)\t\t\t\t\t\t\t\t\t\t\t\t\t\t\t# 컬러 영상 채널 분리\n",
    "\tframe_cnt += 1\n",
    "\n",
    "\tif 100 <= frame_cnt < 200: cv2.add(blue, 100, blue)\t\t\t\t\t\t\t# blue 채널 밝기 증가\n",
    "\telif 200 <= frame_cnt < 300: cv2.add(green, 100, green)\t\t\t\t\t# green 채널 밝기 증가\n",
    "\telif 300 <= frame_cnt < 400: cv2.add(red  , 100, red)\t\t\t\t\t\t# red 채널 밝기 증가\n",
    "\n",
    "\tframe = cv2.merge( [blue, green, red] )\t\t\t\t\t\t\t\t\t\t\t\t\t# 단일채널 영상 합성\n",
    "\tput_string(frame, \"frame_cnt : \", (20, 320), frame_cnt)\n",
    "\tcv2.imshow(\"Read Video File\", frame)\n",
    "\n",
    "capture.release()\n",
    "cv2.destroyAllWindows()"
   ]
  }
 ],
 "metadata": {
  "kernelspec": {
   "display_name": "my_opencv",
   "language": "python",
   "name": "my_opencv"
  },
  "language_info": {
   "codemirror_mode": {
    "name": "ipython",
    "version": 3
   },
   "file_extension": ".py",
   "mimetype": "text/x-python",
   "name": "python",
   "nbconvert_exporter": "python",
   "pygments_lexer": "ipython3",
   "version": "3.11.13"
  }
 },
 "nbformat": 4,
 "nbformat_minor": 5
}

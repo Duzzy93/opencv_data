{
 "cells": [
  {
   "cell_type": "code",
   "execution_count": 1,
   "id": "cc49fb68",
   "metadata": {},
   "outputs": [],
   "source": [
    "import numpy as np\n",
    "import cv2"
   ]
  },
  {
   "cell_type": "code",
   "execution_count": 4,
   "id": "64cdaa8a",
   "metadata": {},
   "outputs": [
    {
     "name": "stdout",
     "output_type": "stream",
     "text": [
      "추가 화소값: 1\n",
      "추가 화소값: 2\n",
      "추가 화소값: 1\n",
      "추가 화소값: 1\n",
      "추가 화소값: 1\n",
      "추가 화소값: 1\n",
      "추가 화소값: 1\n",
      "추가 화소값: 1\n",
      "추가 화소값: 1\n",
      "추가 화소값: 1\n",
      "추가 화소값: 2\n",
      "추가 화소값: 1\n",
      "추가 화소값: 1\n",
      "추가 화소값: 2\n",
      "추가 화소값: 1\n",
      "추가 화소값: 1\n",
      "추가 화소값: 2\n",
      "추가 화소값: 1\n",
      "추가 화소값: 2\n",
      "추가 화소값: 1\n",
      "추가 화소값: 1\n",
      "추가 화소값: 1\n",
      "추가 화소값: 1\n",
      "추가 화소값: 1\n",
      "추가 화소값: 1\n",
      "추가 화소값: 1\n",
      "추가 화소값: 1\n",
      "추가 화소값: 1\n",
      "추가 화소값: 2\n",
      "추가 화소값: 1\n",
      "추가 화소값: 2\n",
      "추가 화소값: 2\n",
      "추가 화소값: 2\n",
      "추가 화소값: 3\n",
      "추가 화소값: 1\n",
      "추가 화소값: 2\n",
      "추가 화소값: 2\n",
      "추가 화소값: 1\n",
      "추가 화소값: 3\n",
      "추가 화소값: 1\n",
      "추가 화소값: 2\n",
      "추가 화소값: 1\n",
      "추가 화소값: 1\n",
      "추가 화소값: 2\n",
      "추가 화소값: 1\n",
      "추가 화소값: 2\n",
      "추가 화소값: 1\n",
      "추가 화소값: 2\n",
      "추가 화소값: 1\n",
      "추가 화소값: 2\n",
      "추가 화소값: 1\n",
      "추가 화소값: 2\n",
      "추가 화소값: 2\n",
      "추가 화소값: 2\n",
      "추가 화소값: 3\n",
      "추가 화소값: 1\n",
      "추가 화소값: 2\n",
      "추가 화소값: 1\n",
      "추가 화소값: 1\n",
      "추가 화소값: 1\n",
      "추가 화소값: 1\n",
      "추가 화소값: 1\n",
      "추가 화소값: 1\n",
      "추가 화소값: 2\n",
      "추가 화소값: 2\n",
      "추가 화소값: 1\n",
      "추가 화소값: 2\n",
      "추가 화소값: 1\n",
      "추가 화소값: 1\n",
      "추가 화소값: 2\n",
      "추가 화소값: 1\n",
      "추가 화소값: 1\n",
      "추가 화소값: 1\n",
      "추가 화소값: 1\n",
      "추가 화소값: 1\n",
      "추가 화소값: 1\n",
      "추가 화소값: 1\n",
      "추가 화소값: 1\n",
      "추가 화소값: 1\n",
      "추가 화소값: 1\n",
      "추가 화소값: 1\n",
      "추가 화소값: 1\n",
      "추가 화소값: 2\n",
      "추가 화소값: 2\n",
      "추가 화소값: 1\n",
      "추가 화소값: 2\n",
      "추가 화소값: 1\n",
      "추가 화소값: 1\n",
      "추가 화소값: 1\n",
      "추가 화소값: 1\n",
      "추가 화소값: 2\n",
      "추가 화소값: 1\n",
      "추가 화소값: -2\n"
     ]
    },
    {
     "ename": "OverflowError",
     "evalue": "Python integer -2 out of bounds for uint8",
     "output_type": "error",
     "traceback": [
      "\u001b[31m---------------------------------------------------------------------------\u001b[39m",
      "\u001b[31mOverflowError\u001b[39m                             Traceback (most recent call last)",
      "\u001b[36mCell\u001b[39m\u001b[36m \u001b[39m\u001b[32mIn[4]\u001b[39m\u001b[32m, line 6\u001b[39m, in \u001b[36monChange\u001b[39m\u001b[34m(value)\u001b[39m\n\u001b[32m      4\u001b[39m add_value = value - \u001b[38;5;28mint\u001b[39m(image[\u001b[32m0\u001b[39m][\u001b[32m0\u001b[39m])\n\u001b[32m      5\u001b[39m \u001b[38;5;28mprint\u001b[39m(\u001b[33m\"\u001b[39m\u001b[33m추가 화소값:\u001b[39m\u001b[33m\"\u001b[39m, add_value)\n\u001b[32m----> \u001b[39m\u001b[32m6\u001b[39m image = \u001b[43mimage\u001b[49m\u001b[43m \u001b[49m\u001b[43m+\u001b[49m\u001b[43m \u001b[49m\u001b[43madd_value\u001b[49m\n\u001b[32m      7\u001b[39m cv2.imshow(title, image)\n",
      "\u001b[31mOverflowError\u001b[39m: Python integer -2 out of bounds for uint8"
     ]
    },
    {
     "name": "stdout",
     "output_type": "stream",
     "text": [
      "추가 화소값: -15\n"
     ]
    },
    {
     "ename": "OverflowError",
     "evalue": "Python integer -15 out of bounds for uint8",
     "output_type": "error",
     "traceback": [
      "\u001b[31m---------------------------------------------------------------------------\u001b[39m",
      "\u001b[31mOverflowError\u001b[39m                             Traceback (most recent call last)",
      "\u001b[36mCell\u001b[39m\u001b[36m \u001b[39m\u001b[32mIn[4]\u001b[39m\u001b[32m, line 6\u001b[39m, in \u001b[36monChange\u001b[39m\u001b[34m(value)\u001b[39m\n\u001b[32m      4\u001b[39m add_value = value - \u001b[38;5;28mint\u001b[39m(image[\u001b[32m0\u001b[39m][\u001b[32m0\u001b[39m])\n\u001b[32m      5\u001b[39m \u001b[38;5;28mprint\u001b[39m(\u001b[33m\"\u001b[39m\u001b[33m추가 화소값:\u001b[39m\u001b[33m\"\u001b[39m, add_value)\n\u001b[32m----> \u001b[39m\u001b[32m6\u001b[39m image = \u001b[43mimage\u001b[49m\u001b[43m \u001b[49m\u001b[43m+\u001b[49m\u001b[43m \u001b[49m\u001b[43madd_value\u001b[49m\n\u001b[32m      7\u001b[39m cv2.imshow(title, image)\n",
      "\u001b[31mOverflowError\u001b[39m: Python integer -15 out of bounds for uint8"
     ]
    },
    {
     "name": "stdout",
     "output_type": "stream",
     "text": [
      "추가 화소값: -22\n"
     ]
    },
    {
     "ename": "OverflowError",
     "evalue": "Python integer -22 out of bounds for uint8",
     "output_type": "error",
     "traceback": [
      "\u001b[31m---------------------------------------------------------------------------\u001b[39m",
      "\u001b[31mOverflowError\u001b[39m                             Traceback (most recent call last)",
      "\u001b[36mCell\u001b[39m\u001b[36m \u001b[39m\u001b[32mIn[4]\u001b[39m\u001b[32m, line 6\u001b[39m, in \u001b[36monChange\u001b[39m\u001b[34m(value)\u001b[39m\n\u001b[32m      4\u001b[39m add_value = value - \u001b[38;5;28mint\u001b[39m(image[\u001b[32m0\u001b[39m][\u001b[32m0\u001b[39m])\n\u001b[32m      5\u001b[39m \u001b[38;5;28mprint\u001b[39m(\u001b[33m\"\u001b[39m\u001b[33m추가 화소값:\u001b[39m\u001b[33m\"\u001b[39m, add_value)\n\u001b[32m----> \u001b[39m\u001b[32m6\u001b[39m image = \u001b[43mimage\u001b[49m\u001b[43m \u001b[49m\u001b[43m+\u001b[49m\u001b[43m \u001b[49m\u001b[43madd_value\u001b[49m\n\u001b[32m      7\u001b[39m cv2.imshow(title, image)\n",
      "\u001b[31mOverflowError\u001b[39m: Python integer -22 out of bounds for uint8"
     ]
    },
    {
     "name": "stdout",
     "output_type": "stream",
     "text": [
      "추가 화소값: -29\n"
     ]
    },
    {
     "ename": "OverflowError",
     "evalue": "Python integer -29 out of bounds for uint8",
     "output_type": "error",
     "traceback": [
      "\u001b[31m---------------------------------------------------------------------------\u001b[39m",
      "\u001b[31mOverflowError\u001b[39m                             Traceback (most recent call last)",
      "\u001b[36mCell\u001b[39m\u001b[36m \u001b[39m\u001b[32mIn[4]\u001b[39m\u001b[32m, line 6\u001b[39m, in \u001b[36monChange\u001b[39m\u001b[34m(value)\u001b[39m\n\u001b[32m      4\u001b[39m add_value = value - \u001b[38;5;28mint\u001b[39m(image[\u001b[32m0\u001b[39m][\u001b[32m0\u001b[39m])\n\u001b[32m      5\u001b[39m \u001b[38;5;28mprint\u001b[39m(\u001b[33m\"\u001b[39m\u001b[33m추가 화소값:\u001b[39m\u001b[33m\"\u001b[39m, add_value)\n\u001b[32m----> \u001b[39m\u001b[32m6\u001b[39m image = \u001b[43mimage\u001b[49m\u001b[43m \u001b[49m\u001b[43m+\u001b[49m\u001b[43m \u001b[49m\u001b[43madd_value\u001b[49m\n\u001b[32m      7\u001b[39m cv2.imshow(title, image)\n",
      "\u001b[31mOverflowError\u001b[39m: Python integer -29 out of bounds for uint8"
     ]
    },
    {
     "name": "stdout",
     "output_type": "stream",
     "text": [
      "추가 화소값: -36\n"
     ]
    },
    {
     "ename": "OverflowError",
     "evalue": "Python integer -36 out of bounds for uint8",
     "output_type": "error",
     "traceback": [
      "\u001b[31m---------------------------------------------------------------------------\u001b[39m",
      "\u001b[31mOverflowError\u001b[39m                             Traceback (most recent call last)",
      "\u001b[36mCell\u001b[39m\u001b[36m \u001b[39m\u001b[32mIn[4]\u001b[39m\u001b[32m, line 6\u001b[39m, in \u001b[36monChange\u001b[39m\u001b[34m(value)\u001b[39m\n\u001b[32m      4\u001b[39m add_value = value - \u001b[38;5;28mint\u001b[39m(image[\u001b[32m0\u001b[39m][\u001b[32m0\u001b[39m])\n\u001b[32m      5\u001b[39m \u001b[38;5;28mprint\u001b[39m(\u001b[33m\"\u001b[39m\u001b[33m추가 화소값:\u001b[39m\u001b[33m\"\u001b[39m, add_value)\n\u001b[32m----> \u001b[39m\u001b[32m6\u001b[39m image = \u001b[43mimage\u001b[49m\u001b[43m \u001b[49m\u001b[43m+\u001b[49m\u001b[43m \u001b[49m\u001b[43madd_value\u001b[49m\n\u001b[32m      7\u001b[39m cv2.imshow(title, image)\n",
      "\u001b[31mOverflowError\u001b[39m: Python integer -36 out of bounds for uint8"
     ]
    },
    {
     "name": "stdout",
     "output_type": "stream",
     "text": [
      "추가 화소값: -44\n"
     ]
    },
    {
     "ename": "OverflowError",
     "evalue": "Python integer -44 out of bounds for uint8",
     "output_type": "error",
     "traceback": [
      "\u001b[31m---------------------------------------------------------------------------\u001b[39m",
      "\u001b[31mOverflowError\u001b[39m                             Traceback (most recent call last)",
      "\u001b[36mCell\u001b[39m\u001b[36m \u001b[39m\u001b[32mIn[4]\u001b[39m\u001b[32m, line 6\u001b[39m, in \u001b[36monChange\u001b[39m\u001b[34m(value)\u001b[39m\n\u001b[32m      4\u001b[39m add_value = value - \u001b[38;5;28mint\u001b[39m(image[\u001b[32m0\u001b[39m][\u001b[32m0\u001b[39m])\n\u001b[32m      5\u001b[39m \u001b[38;5;28mprint\u001b[39m(\u001b[33m\"\u001b[39m\u001b[33m추가 화소값:\u001b[39m\u001b[33m\"\u001b[39m, add_value)\n\u001b[32m----> \u001b[39m\u001b[32m6\u001b[39m image = \u001b[43mimage\u001b[49m\u001b[43m \u001b[49m\u001b[43m+\u001b[49m\u001b[43m \u001b[49m\u001b[43madd_value\u001b[49m\n\u001b[32m      7\u001b[39m cv2.imshow(title, image)\n",
      "\u001b[31mOverflowError\u001b[39m: Python integer -44 out of bounds for uint8"
     ]
    },
    {
     "name": "stdout",
     "output_type": "stream",
     "text": [
      "추가 화소값: -51\n"
     ]
    },
    {
     "ename": "OverflowError",
     "evalue": "Python integer -51 out of bounds for uint8",
     "output_type": "error",
     "traceback": [
      "\u001b[31m---------------------------------------------------------------------------\u001b[39m",
      "\u001b[31mOverflowError\u001b[39m                             Traceback (most recent call last)",
      "\u001b[36mCell\u001b[39m\u001b[36m \u001b[39m\u001b[32mIn[4]\u001b[39m\u001b[32m, line 6\u001b[39m, in \u001b[36monChange\u001b[39m\u001b[34m(value)\u001b[39m\n\u001b[32m      4\u001b[39m add_value = value - \u001b[38;5;28mint\u001b[39m(image[\u001b[32m0\u001b[39m][\u001b[32m0\u001b[39m])\n\u001b[32m      5\u001b[39m \u001b[38;5;28mprint\u001b[39m(\u001b[33m\"\u001b[39m\u001b[33m추가 화소값:\u001b[39m\u001b[33m\"\u001b[39m, add_value)\n\u001b[32m----> \u001b[39m\u001b[32m6\u001b[39m image = \u001b[43mimage\u001b[49m\u001b[43m \u001b[49m\u001b[43m+\u001b[49m\u001b[43m \u001b[49m\u001b[43madd_value\u001b[49m\n\u001b[32m      7\u001b[39m cv2.imshow(title, image)\n",
      "\u001b[31mOverflowError\u001b[39m: Python integer -51 out of bounds for uint8"
     ]
    },
    {
     "name": "stdout",
     "output_type": "stream",
     "text": [
      "추가 화소값: -58\n"
     ]
    },
    {
     "ename": "OverflowError",
     "evalue": "Python integer -58 out of bounds for uint8",
     "output_type": "error",
     "traceback": [
      "\u001b[31m---------------------------------------------------------------------------\u001b[39m",
      "\u001b[31mOverflowError\u001b[39m                             Traceback (most recent call last)",
      "\u001b[36mCell\u001b[39m\u001b[36m \u001b[39m\u001b[32mIn[4]\u001b[39m\u001b[32m, line 6\u001b[39m, in \u001b[36monChange\u001b[39m\u001b[34m(value)\u001b[39m\n\u001b[32m      4\u001b[39m add_value = value - \u001b[38;5;28mint\u001b[39m(image[\u001b[32m0\u001b[39m][\u001b[32m0\u001b[39m])\n\u001b[32m      5\u001b[39m \u001b[38;5;28mprint\u001b[39m(\u001b[33m\"\u001b[39m\u001b[33m추가 화소값:\u001b[39m\u001b[33m\"\u001b[39m, add_value)\n\u001b[32m----> \u001b[39m\u001b[32m6\u001b[39m image = \u001b[43mimage\u001b[49m\u001b[43m \u001b[49m\u001b[43m+\u001b[49m\u001b[43m \u001b[49m\u001b[43madd_value\u001b[49m\n\u001b[32m      7\u001b[39m cv2.imshow(title, image)\n",
      "\u001b[31mOverflowError\u001b[39m: Python integer -58 out of bounds for uint8"
     ]
    },
    {
     "name": "stdout",
     "output_type": "stream",
     "text": [
      "추가 화소값: -59\n"
     ]
    },
    {
     "ename": "OverflowError",
     "evalue": "Python integer -59 out of bounds for uint8",
     "output_type": "error",
     "traceback": [
      "\u001b[31m---------------------------------------------------------------------------\u001b[39m",
      "\u001b[31mOverflowError\u001b[39m                             Traceback (most recent call last)",
      "\u001b[36mCell\u001b[39m\u001b[36m \u001b[39m\u001b[32mIn[4]\u001b[39m\u001b[32m, line 6\u001b[39m, in \u001b[36monChange\u001b[39m\u001b[34m(value)\u001b[39m\n\u001b[32m      4\u001b[39m add_value = value - \u001b[38;5;28mint\u001b[39m(image[\u001b[32m0\u001b[39m][\u001b[32m0\u001b[39m])\n\u001b[32m      5\u001b[39m \u001b[38;5;28mprint\u001b[39m(\u001b[33m\"\u001b[39m\u001b[33m추가 화소값:\u001b[39m\u001b[33m\"\u001b[39m, add_value)\n\u001b[32m----> \u001b[39m\u001b[32m6\u001b[39m image = \u001b[43mimage\u001b[49m\u001b[43m \u001b[49m\u001b[43m+\u001b[49m\u001b[43m \u001b[49m\u001b[43madd_value\u001b[49m\n\u001b[32m      7\u001b[39m cv2.imshow(title, image)\n",
      "\u001b[31mOverflowError\u001b[39m: Python integer -59 out of bounds for uint8"
     ]
    },
    {
     "name": "stdout",
     "output_type": "stream",
     "text": [
      "추가 화소값: -60\n"
     ]
    },
    {
     "ename": "OverflowError",
     "evalue": "Python integer -60 out of bounds for uint8",
     "output_type": "error",
     "traceback": [
      "\u001b[31m---------------------------------------------------------------------------\u001b[39m",
      "\u001b[31mOverflowError\u001b[39m                             Traceback (most recent call last)",
      "\u001b[36mCell\u001b[39m\u001b[36m \u001b[39m\u001b[32mIn[4]\u001b[39m\u001b[32m, line 6\u001b[39m, in \u001b[36monChange\u001b[39m\u001b[34m(value)\u001b[39m\n\u001b[32m      4\u001b[39m add_value = value - \u001b[38;5;28mint\u001b[39m(image[\u001b[32m0\u001b[39m][\u001b[32m0\u001b[39m])\n\u001b[32m      5\u001b[39m \u001b[38;5;28mprint\u001b[39m(\u001b[33m\"\u001b[39m\u001b[33m추가 화소값:\u001b[39m\u001b[33m\"\u001b[39m, add_value)\n\u001b[32m----> \u001b[39m\u001b[32m6\u001b[39m image = \u001b[43mimage\u001b[49m\u001b[43m \u001b[49m\u001b[43m+\u001b[49m\u001b[43m \u001b[49m\u001b[43madd_value\u001b[49m\n\u001b[32m      7\u001b[39m cv2.imshow(title, image)\n",
      "\u001b[31mOverflowError\u001b[39m: Python integer -60 out of bounds for uint8"
     ]
    },
    {
     "name": "stdout",
     "output_type": "stream",
     "text": [
      "추가 화소값: -63\n"
     ]
    },
    {
     "ename": "OverflowError",
     "evalue": "Python integer -63 out of bounds for uint8",
     "output_type": "error",
     "traceback": [
      "\u001b[31m---------------------------------------------------------------------------\u001b[39m",
      "\u001b[31mOverflowError\u001b[39m                             Traceback (most recent call last)",
      "\u001b[36mCell\u001b[39m\u001b[36m \u001b[39m\u001b[32mIn[4]\u001b[39m\u001b[32m, line 6\u001b[39m, in \u001b[36monChange\u001b[39m\u001b[34m(value)\u001b[39m\n\u001b[32m      4\u001b[39m add_value = value - \u001b[38;5;28mint\u001b[39m(image[\u001b[32m0\u001b[39m][\u001b[32m0\u001b[39m])\n\u001b[32m      5\u001b[39m \u001b[38;5;28mprint\u001b[39m(\u001b[33m\"\u001b[39m\u001b[33m추가 화소값:\u001b[39m\u001b[33m\"\u001b[39m, add_value)\n\u001b[32m----> \u001b[39m\u001b[32m6\u001b[39m image = \u001b[43mimage\u001b[49m\u001b[43m \u001b[49m\u001b[43m+\u001b[49m\u001b[43m \u001b[49m\u001b[43madd_value\u001b[49m\n\u001b[32m      7\u001b[39m cv2.imshow(title, image)\n",
      "\u001b[31mOverflowError\u001b[39m: Python integer -63 out of bounds for uint8"
     ]
    },
    {
     "name": "stdout",
     "output_type": "stream",
     "text": [
      "추가 화소값: -65\n"
     ]
    },
    {
     "ename": "OverflowError",
     "evalue": "Python integer -65 out of bounds for uint8",
     "output_type": "error",
     "traceback": [
      "\u001b[31m---------------------------------------------------------------------------\u001b[39m",
      "\u001b[31mOverflowError\u001b[39m                             Traceback (most recent call last)",
      "\u001b[36mCell\u001b[39m\u001b[36m \u001b[39m\u001b[32mIn[4]\u001b[39m\u001b[32m, line 6\u001b[39m, in \u001b[36monChange\u001b[39m\u001b[34m(value)\u001b[39m\n\u001b[32m      4\u001b[39m add_value = value - \u001b[38;5;28mint\u001b[39m(image[\u001b[32m0\u001b[39m][\u001b[32m0\u001b[39m])\n\u001b[32m      5\u001b[39m \u001b[38;5;28mprint\u001b[39m(\u001b[33m\"\u001b[39m\u001b[33m추가 화소값:\u001b[39m\u001b[33m\"\u001b[39m, add_value)\n\u001b[32m----> \u001b[39m\u001b[32m6\u001b[39m image = \u001b[43mimage\u001b[49m\u001b[43m \u001b[49m\u001b[43m+\u001b[49m\u001b[43m \u001b[49m\u001b[43madd_value\u001b[49m\n\u001b[32m      7\u001b[39m cv2.imshow(title, image)\n",
      "\u001b[31mOverflowError\u001b[39m: Python integer -65 out of bounds for uint8"
     ]
    },
    {
     "name": "stdout",
     "output_type": "stream",
     "text": [
      "추가 화소값: -67\n"
     ]
    },
    {
     "ename": "OverflowError",
     "evalue": "Python integer -67 out of bounds for uint8",
     "output_type": "error",
     "traceback": [
      "\u001b[31m---------------------------------------------------------------------------\u001b[39m",
      "\u001b[31mOverflowError\u001b[39m                             Traceback (most recent call last)",
      "\u001b[36mCell\u001b[39m\u001b[36m \u001b[39m\u001b[32mIn[4]\u001b[39m\u001b[32m, line 6\u001b[39m, in \u001b[36monChange\u001b[39m\u001b[34m(value)\u001b[39m\n\u001b[32m      4\u001b[39m add_value = value - \u001b[38;5;28mint\u001b[39m(image[\u001b[32m0\u001b[39m][\u001b[32m0\u001b[39m])\n\u001b[32m      5\u001b[39m \u001b[38;5;28mprint\u001b[39m(\u001b[33m\"\u001b[39m\u001b[33m추가 화소값:\u001b[39m\u001b[33m\"\u001b[39m, add_value)\n\u001b[32m----> \u001b[39m\u001b[32m6\u001b[39m image = \u001b[43mimage\u001b[49m\u001b[43m \u001b[49m\u001b[43m+\u001b[49m\u001b[43m \u001b[49m\u001b[43madd_value\u001b[49m\n\u001b[32m      7\u001b[39m cv2.imshow(title, image)\n",
      "\u001b[31mOverflowError\u001b[39m: Python integer -67 out of bounds for uint8"
     ]
    },
    {
     "name": "stdout",
     "output_type": "stream",
     "text": [
      "추가 화소값: -69\n"
     ]
    },
    {
     "ename": "OverflowError",
     "evalue": "Python integer -69 out of bounds for uint8",
     "output_type": "error",
     "traceback": [
      "\u001b[31m---------------------------------------------------------------------------\u001b[39m",
      "\u001b[31mOverflowError\u001b[39m                             Traceback (most recent call last)",
      "\u001b[36mCell\u001b[39m\u001b[36m \u001b[39m\u001b[32mIn[4]\u001b[39m\u001b[32m, line 6\u001b[39m, in \u001b[36monChange\u001b[39m\u001b[34m(value)\u001b[39m\n\u001b[32m      4\u001b[39m add_value = value - \u001b[38;5;28mint\u001b[39m(image[\u001b[32m0\u001b[39m][\u001b[32m0\u001b[39m])\n\u001b[32m      5\u001b[39m \u001b[38;5;28mprint\u001b[39m(\u001b[33m\"\u001b[39m\u001b[33m추가 화소값:\u001b[39m\u001b[33m\"\u001b[39m, add_value)\n\u001b[32m----> \u001b[39m\u001b[32m6\u001b[39m image = \u001b[43mimage\u001b[49m\u001b[43m \u001b[49m\u001b[43m+\u001b[49m\u001b[43m \u001b[49m\u001b[43madd_value\u001b[49m\n\u001b[32m      7\u001b[39m cv2.imshow(title, image)\n",
      "\u001b[31mOverflowError\u001b[39m: Python integer -69 out of bounds for uint8"
     ]
    },
    {
     "name": "stdout",
     "output_type": "stream",
     "text": [
      "추가 화소값: -73\n"
     ]
    },
    {
     "ename": "OverflowError",
     "evalue": "Python integer -73 out of bounds for uint8",
     "output_type": "error",
     "traceback": [
      "\u001b[31m---------------------------------------------------------------------------\u001b[39m",
      "\u001b[31mOverflowError\u001b[39m                             Traceback (most recent call last)",
      "\u001b[36mCell\u001b[39m\u001b[36m \u001b[39m\u001b[32mIn[4]\u001b[39m\u001b[32m, line 6\u001b[39m, in \u001b[36monChange\u001b[39m\u001b[34m(value)\u001b[39m\n\u001b[32m      4\u001b[39m add_value = value - \u001b[38;5;28mint\u001b[39m(image[\u001b[32m0\u001b[39m][\u001b[32m0\u001b[39m])\n\u001b[32m      5\u001b[39m \u001b[38;5;28mprint\u001b[39m(\u001b[33m\"\u001b[39m\u001b[33m추가 화소값:\u001b[39m\u001b[33m\"\u001b[39m, add_value)\n\u001b[32m----> \u001b[39m\u001b[32m6\u001b[39m image = \u001b[43mimage\u001b[49m\u001b[43m \u001b[49m\u001b[43m+\u001b[49m\u001b[43m \u001b[49m\u001b[43madd_value\u001b[49m\n\u001b[32m      7\u001b[39m cv2.imshow(title, image)\n",
      "\u001b[31mOverflowError\u001b[39m: Python integer -73 out of bounds for uint8"
     ]
    },
    {
     "name": "stdout",
     "output_type": "stream",
     "text": [
      "추가 화소값: -75\n"
     ]
    },
    {
     "ename": "OverflowError",
     "evalue": "Python integer -75 out of bounds for uint8",
     "output_type": "error",
     "traceback": [
      "\u001b[31m---------------------------------------------------------------------------\u001b[39m",
      "\u001b[31mOverflowError\u001b[39m                             Traceback (most recent call last)",
      "\u001b[36mCell\u001b[39m\u001b[36m \u001b[39m\u001b[32mIn[4]\u001b[39m\u001b[32m, line 6\u001b[39m, in \u001b[36monChange\u001b[39m\u001b[34m(value)\u001b[39m\n\u001b[32m      4\u001b[39m add_value = value - \u001b[38;5;28mint\u001b[39m(image[\u001b[32m0\u001b[39m][\u001b[32m0\u001b[39m])\n\u001b[32m      5\u001b[39m \u001b[38;5;28mprint\u001b[39m(\u001b[33m\"\u001b[39m\u001b[33m추가 화소값:\u001b[39m\u001b[33m\"\u001b[39m, add_value)\n\u001b[32m----> \u001b[39m\u001b[32m6\u001b[39m image = \u001b[43mimage\u001b[49m\u001b[43m \u001b[49m\u001b[43m+\u001b[49m\u001b[43m \u001b[49m\u001b[43madd_value\u001b[49m\n\u001b[32m      7\u001b[39m cv2.imshow(title, image)\n",
      "\u001b[31mOverflowError\u001b[39m: Python integer -75 out of bounds for uint8"
     ]
    },
    {
     "name": "stdout",
     "output_type": "stream",
     "text": [
      "추가 화소값: -76\n"
     ]
    },
    {
     "ename": "OverflowError",
     "evalue": "Python integer -76 out of bounds for uint8",
     "output_type": "error",
     "traceback": [
      "\u001b[31m---------------------------------------------------------------------------\u001b[39m",
      "\u001b[31mOverflowError\u001b[39m                             Traceback (most recent call last)",
      "\u001b[36mCell\u001b[39m\u001b[36m \u001b[39m\u001b[32mIn[4]\u001b[39m\u001b[32m, line 6\u001b[39m, in \u001b[36monChange\u001b[39m\u001b[34m(value)\u001b[39m\n\u001b[32m      4\u001b[39m add_value = value - \u001b[38;5;28mint\u001b[39m(image[\u001b[32m0\u001b[39m][\u001b[32m0\u001b[39m])\n\u001b[32m      5\u001b[39m \u001b[38;5;28mprint\u001b[39m(\u001b[33m\"\u001b[39m\u001b[33m추가 화소값:\u001b[39m\u001b[33m\"\u001b[39m, add_value)\n\u001b[32m----> \u001b[39m\u001b[32m6\u001b[39m image = \u001b[43mimage\u001b[49m\u001b[43m \u001b[49m\u001b[43m+\u001b[49m\u001b[43m \u001b[49m\u001b[43madd_value\u001b[49m\n\u001b[32m      7\u001b[39m cv2.imshow(title, image)\n",
      "\u001b[31mOverflowError\u001b[39m: Python integer -76 out of bounds for uint8"
     ]
    },
    {
     "name": "stdout",
     "output_type": "stream",
     "text": [
      "추가 화소값: -77\n"
     ]
    },
    {
     "ename": "OverflowError",
     "evalue": "Python integer -77 out of bounds for uint8",
     "output_type": "error",
     "traceback": [
      "\u001b[31m---------------------------------------------------------------------------\u001b[39m",
      "\u001b[31mOverflowError\u001b[39m                             Traceback (most recent call last)",
      "\u001b[36mCell\u001b[39m\u001b[36m \u001b[39m\u001b[32mIn[4]\u001b[39m\u001b[32m, line 6\u001b[39m, in \u001b[36monChange\u001b[39m\u001b[34m(value)\u001b[39m\n\u001b[32m      4\u001b[39m add_value = value - \u001b[38;5;28mint\u001b[39m(image[\u001b[32m0\u001b[39m][\u001b[32m0\u001b[39m])\n\u001b[32m      5\u001b[39m \u001b[38;5;28mprint\u001b[39m(\u001b[33m\"\u001b[39m\u001b[33m추가 화소값:\u001b[39m\u001b[33m\"\u001b[39m, add_value)\n\u001b[32m----> \u001b[39m\u001b[32m6\u001b[39m image = \u001b[43mimage\u001b[49m\u001b[43m \u001b[49m\u001b[43m+\u001b[49m\u001b[43m \u001b[49m\u001b[43madd_value\u001b[49m\n\u001b[32m      7\u001b[39m cv2.imshow(title, image)\n",
      "\u001b[31mOverflowError\u001b[39m: Python integer -77 out of bounds for uint8"
     ]
    },
    {
     "name": "stdout",
     "output_type": "stream",
     "text": [
      "추가 화소값: -78\n"
     ]
    },
    {
     "ename": "OverflowError",
     "evalue": "Python integer -78 out of bounds for uint8",
     "output_type": "error",
     "traceback": [
      "\u001b[31m---------------------------------------------------------------------------\u001b[39m",
      "\u001b[31mOverflowError\u001b[39m                             Traceback (most recent call last)",
      "\u001b[36mCell\u001b[39m\u001b[36m \u001b[39m\u001b[32mIn[4]\u001b[39m\u001b[32m, line 6\u001b[39m, in \u001b[36monChange\u001b[39m\u001b[34m(value)\u001b[39m\n\u001b[32m      4\u001b[39m add_value = value - \u001b[38;5;28mint\u001b[39m(image[\u001b[32m0\u001b[39m][\u001b[32m0\u001b[39m])\n\u001b[32m      5\u001b[39m \u001b[38;5;28mprint\u001b[39m(\u001b[33m\"\u001b[39m\u001b[33m추가 화소값:\u001b[39m\u001b[33m\"\u001b[39m, add_value)\n\u001b[32m----> \u001b[39m\u001b[32m6\u001b[39m image = \u001b[43mimage\u001b[49m\u001b[43m \u001b[49m\u001b[43m+\u001b[49m\u001b[43m \u001b[49m\u001b[43madd_value\u001b[49m\n\u001b[32m      7\u001b[39m cv2.imshow(title, image)\n",
      "\u001b[31mOverflowError\u001b[39m: Python integer -78 out of bounds for uint8"
     ]
    },
    {
     "name": "stdout",
     "output_type": "stream",
     "text": [
      "추가 화소값: -80\n"
     ]
    },
    {
     "ename": "OverflowError",
     "evalue": "Python integer -80 out of bounds for uint8",
     "output_type": "error",
     "traceback": [
      "\u001b[31m---------------------------------------------------------------------------\u001b[39m",
      "\u001b[31mOverflowError\u001b[39m                             Traceback (most recent call last)",
      "\u001b[36mCell\u001b[39m\u001b[36m \u001b[39m\u001b[32mIn[4]\u001b[39m\u001b[32m, line 6\u001b[39m, in \u001b[36monChange\u001b[39m\u001b[34m(value)\u001b[39m\n\u001b[32m      4\u001b[39m add_value = value - \u001b[38;5;28mint\u001b[39m(image[\u001b[32m0\u001b[39m][\u001b[32m0\u001b[39m])\n\u001b[32m      5\u001b[39m \u001b[38;5;28mprint\u001b[39m(\u001b[33m\"\u001b[39m\u001b[33m추가 화소값:\u001b[39m\u001b[33m\"\u001b[39m, add_value)\n\u001b[32m----> \u001b[39m\u001b[32m6\u001b[39m image = \u001b[43mimage\u001b[49m\u001b[43m \u001b[49m\u001b[43m+\u001b[49m\u001b[43m \u001b[49m\u001b[43madd_value\u001b[49m\n\u001b[32m      7\u001b[39m cv2.imshow(title, image)\n",
      "\u001b[31mOverflowError\u001b[39m: Python integer -80 out of bounds for uint8"
     ]
    },
    {
     "name": "stdout",
     "output_type": "stream",
     "text": [
      "추가 화소값: -84\n"
     ]
    },
    {
     "ename": "OverflowError",
     "evalue": "Python integer -84 out of bounds for uint8",
     "output_type": "error",
     "traceback": [
      "\u001b[31m---------------------------------------------------------------------------\u001b[39m",
      "\u001b[31mOverflowError\u001b[39m                             Traceback (most recent call last)",
      "\u001b[36mCell\u001b[39m\u001b[36m \u001b[39m\u001b[32mIn[4]\u001b[39m\u001b[32m, line 6\u001b[39m, in \u001b[36monChange\u001b[39m\u001b[34m(value)\u001b[39m\n\u001b[32m      4\u001b[39m add_value = value - \u001b[38;5;28mint\u001b[39m(image[\u001b[32m0\u001b[39m][\u001b[32m0\u001b[39m])\n\u001b[32m      5\u001b[39m \u001b[38;5;28mprint\u001b[39m(\u001b[33m\"\u001b[39m\u001b[33m추가 화소값:\u001b[39m\u001b[33m\"\u001b[39m, add_value)\n\u001b[32m----> \u001b[39m\u001b[32m6\u001b[39m image = \u001b[43mimage\u001b[49m\u001b[43m \u001b[49m\u001b[43m+\u001b[49m\u001b[43m \u001b[49m\u001b[43madd_value\u001b[49m\n\u001b[32m      7\u001b[39m cv2.imshow(title, image)\n",
      "\u001b[31mOverflowError\u001b[39m: Python integer -84 out of bounds for uint8"
     ]
    },
    {
     "name": "stdout",
     "output_type": "stream",
     "text": [
      "추가 화소값: -85\n"
     ]
    },
    {
     "ename": "OverflowError",
     "evalue": "Python integer -85 out of bounds for uint8",
     "output_type": "error",
     "traceback": [
      "\u001b[31m---------------------------------------------------------------------------\u001b[39m",
      "\u001b[31mOverflowError\u001b[39m                             Traceback (most recent call last)",
      "\u001b[36mCell\u001b[39m\u001b[36m \u001b[39m\u001b[32mIn[4]\u001b[39m\u001b[32m, line 6\u001b[39m, in \u001b[36monChange\u001b[39m\u001b[34m(value)\u001b[39m\n\u001b[32m      4\u001b[39m add_value = value - \u001b[38;5;28mint\u001b[39m(image[\u001b[32m0\u001b[39m][\u001b[32m0\u001b[39m])\n\u001b[32m      5\u001b[39m \u001b[38;5;28mprint\u001b[39m(\u001b[33m\"\u001b[39m\u001b[33m추가 화소값:\u001b[39m\u001b[33m\"\u001b[39m, add_value)\n\u001b[32m----> \u001b[39m\u001b[32m6\u001b[39m image = \u001b[43mimage\u001b[49m\u001b[43m \u001b[49m\u001b[43m+\u001b[49m\u001b[43m \u001b[49m\u001b[43madd_value\u001b[49m\n\u001b[32m      7\u001b[39m cv2.imshow(title, image)\n",
      "\u001b[31mOverflowError\u001b[39m: Python integer -85 out of bounds for uint8"
     ]
    },
    {
     "name": "stdout",
     "output_type": "stream",
     "text": [
      "추가 화소값: -84\n"
     ]
    },
    {
     "ename": "OverflowError",
     "evalue": "Python integer -84 out of bounds for uint8",
     "output_type": "error",
     "traceback": [
      "\u001b[31m---------------------------------------------------------------------------\u001b[39m",
      "\u001b[31mOverflowError\u001b[39m                             Traceback (most recent call last)",
      "\u001b[36mCell\u001b[39m\u001b[36m \u001b[39m\u001b[32mIn[4]\u001b[39m\u001b[32m, line 6\u001b[39m, in \u001b[36monChange\u001b[39m\u001b[34m(value)\u001b[39m\n\u001b[32m      4\u001b[39m add_value = value - \u001b[38;5;28mint\u001b[39m(image[\u001b[32m0\u001b[39m][\u001b[32m0\u001b[39m])\n\u001b[32m      5\u001b[39m \u001b[38;5;28mprint\u001b[39m(\u001b[33m\"\u001b[39m\u001b[33m추가 화소값:\u001b[39m\u001b[33m\"\u001b[39m, add_value)\n\u001b[32m----> \u001b[39m\u001b[32m6\u001b[39m image = \u001b[43mimage\u001b[49m\u001b[43m \u001b[49m\u001b[43m+\u001b[49m\u001b[43m \u001b[49m\u001b[43madd_value\u001b[49m\n\u001b[32m      7\u001b[39m cv2.imshow(title, image)\n",
      "\u001b[31mOverflowError\u001b[39m: Python integer -84 out of bounds for uint8"
     ]
    },
    {
     "name": "stdout",
     "output_type": "stream",
     "text": [
      "추가 화소값: -75\n"
     ]
    },
    {
     "ename": "OverflowError",
     "evalue": "Python integer -75 out of bounds for uint8",
     "output_type": "error",
     "traceback": [
      "\u001b[31m---------------------------------------------------------------------------\u001b[39m",
      "\u001b[31mOverflowError\u001b[39m                             Traceback (most recent call last)",
      "\u001b[36mCell\u001b[39m\u001b[36m \u001b[39m\u001b[32mIn[4]\u001b[39m\u001b[32m, line 6\u001b[39m, in \u001b[36monChange\u001b[39m\u001b[34m(value)\u001b[39m\n\u001b[32m      4\u001b[39m add_value = value - \u001b[38;5;28mint\u001b[39m(image[\u001b[32m0\u001b[39m][\u001b[32m0\u001b[39m])\n\u001b[32m      5\u001b[39m \u001b[38;5;28mprint\u001b[39m(\u001b[33m\"\u001b[39m\u001b[33m추가 화소값:\u001b[39m\u001b[33m\"\u001b[39m, add_value)\n\u001b[32m----> \u001b[39m\u001b[32m6\u001b[39m image = \u001b[43mimage\u001b[49m\u001b[43m \u001b[49m\u001b[43m+\u001b[49m\u001b[43m \u001b[49m\u001b[43madd_value\u001b[49m\n\u001b[32m      7\u001b[39m cv2.imshow(title, image)\n",
      "\u001b[31mOverflowError\u001b[39m: Python integer -75 out of bounds for uint8"
     ]
    },
    {
     "name": "stdout",
     "output_type": "stream",
     "text": [
      "추가 화소값: -72\n"
     ]
    },
    {
     "ename": "OverflowError",
     "evalue": "Python integer -72 out of bounds for uint8",
     "output_type": "error",
     "traceback": [
      "\u001b[31m---------------------------------------------------------------------------\u001b[39m",
      "\u001b[31mOverflowError\u001b[39m                             Traceback (most recent call last)",
      "\u001b[36mCell\u001b[39m\u001b[36m \u001b[39m\u001b[32mIn[4]\u001b[39m\u001b[32m, line 6\u001b[39m, in \u001b[36monChange\u001b[39m\u001b[34m(value)\u001b[39m\n\u001b[32m      4\u001b[39m add_value = value - \u001b[38;5;28mint\u001b[39m(image[\u001b[32m0\u001b[39m][\u001b[32m0\u001b[39m])\n\u001b[32m      5\u001b[39m \u001b[38;5;28mprint\u001b[39m(\u001b[33m\"\u001b[39m\u001b[33m추가 화소값:\u001b[39m\u001b[33m\"\u001b[39m, add_value)\n\u001b[32m----> \u001b[39m\u001b[32m6\u001b[39m image = \u001b[43mimage\u001b[49m\u001b[43m \u001b[49m\u001b[43m+\u001b[49m\u001b[43m \u001b[49m\u001b[43madd_value\u001b[49m\n\u001b[32m      7\u001b[39m cv2.imshow(title, image)\n",
      "\u001b[31mOverflowError\u001b[39m: Python integer -72 out of bounds for uint8"
     ]
    },
    {
     "name": "stdout",
     "output_type": "stream",
     "text": [
      "추가 화소값: -68\n"
     ]
    },
    {
     "ename": "OverflowError",
     "evalue": "Python integer -68 out of bounds for uint8",
     "output_type": "error",
     "traceback": [
      "\u001b[31m---------------------------------------------------------------------------\u001b[39m",
      "\u001b[31mOverflowError\u001b[39m                             Traceback (most recent call last)",
      "\u001b[36mCell\u001b[39m\u001b[36m \u001b[39m\u001b[32mIn[4]\u001b[39m\u001b[32m, line 6\u001b[39m, in \u001b[36monChange\u001b[39m\u001b[34m(value)\u001b[39m\n\u001b[32m      4\u001b[39m add_value = value - \u001b[38;5;28mint\u001b[39m(image[\u001b[32m0\u001b[39m][\u001b[32m0\u001b[39m])\n\u001b[32m      5\u001b[39m \u001b[38;5;28mprint\u001b[39m(\u001b[33m\"\u001b[39m\u001b[33m추가 화소값:\u001b[39m\u001b[33m\"\u001b[39m, add_value)\n\u001b[32m----> \u001b[39m\u001b[32m6\u001b[39m image = \u001b[43mimage\u001b[49m\u001b[43m \u001b[49m\u001b[43m+\u001b[49m\u001b[43m \u001b[49m\u001b[43madd_value\u001b[49m\n\u001b[32m      7\u001b[39m cv2.imshow(title, image)\n",
      "\u001b[31mOverflowError\u001b[39m: Python integer -68 out of bounds for uint8"
     ]
    },
    {
     "name": "stdout",
     "output_type": "stream",
     "text": [
      "추가 화소값: -67\n"
     ]
    },
    {
     "ename": "OverflowError",
     "evalue": "Python integer -67 out of bounds for uint8",
     "output_type": "error",
     "traceback": [
      "\u001b[31m---------------------------------------------------------------------------\u001b[39m",
      "\u001b[31mOverflowError\u001b[39m                             Traceback (most recent call last)",
      "\u001b[36mCell\u001b[39m\u001b[36m \u001b[39m\u001b[32mIn[4]\u001b[39m\u001b[32m, line 6\u001b[39m, in \u001b[36monChange\u001b[39m\u001b[34m(value)\u001b[39m\n\u001b[32m      4\u001b[39m add_value = value - \u001b[38;5;28mint\u001b[39m(image[\u001b[32m0\u001b[39m][\u001b[32m0\u001b[39m])\n\u001b[32m      5\u001b[39m \u001b[38;5;28mprint\u001b[39m(\u001b[33m\"\u001b[39m\u001b[33m추가 화소값:\u001b[39m\u001b[33m\"\u001b[39m, add_value)\n\u001b[32m----> \u001b[39m\u001b[32m6\u001b[39m image = \u001b[43mimage\u001b[49m\u001b[43m \u001b[49m\u001b[43m+\u001b[49m\u001b[43m \u001b[49m\u001b[43madd_value\u001b[49m\n\u001b[32m      7\u001b[39m cv2.imshow(title, image)\n",
      "\u001b[31mOverflowError\u001b[39m: Python integer -67 out of bounds for uint8"
     ]
    },
    {
     "name": "stdout",
     "output_type": "stream",
     "text": [
      "추가 화소값: -64\n"
     ]
    },
    {
     "ename": "OverflowError",
     "evalue": "Python integer -64 out of bounds for uint8",
     "output_type": "error",
     "traceback": [
      "\u001b[31m---------------------------------------------------------------------------\u001b[39m",
      "\u001b[31mOverflowError\u001b[39m                             Traceback (most recent call last)",
      "\u001b[36mCell\u001b[39m\u001b[36m \u001b[39m\u001b[32mIn[4]\u001b[39m\u001b[32m, line 6\u001b[39m, in \u001b[36monChange\u001b[39m\u001b[34m(value)\u001b[39m\n\u001b[32m      4\u001b[39m add_value = value - \u001b[38;5;28mint\u001b[39m(image[\u001b[32m0\u001b[39m][\u001b[32m0\u001b[39m])\n\u001b[32m      5\u001b[39m \u001b[38;5;28mprint\u001b[39m(\u001b[33m\"\u001b[39m\u001b[33m추가 화소값:\u001b[39m\u001b[33m\"\u001b[39m, add_value)\n\u001b[32m----> \u001b[39m\u001b[32m6\u001b[39m image = \u001b[43mimage\u001b[49m\u001b[43m \u001b[49m\u001b[43m+\u001b[49m\u001b[43m \u001b[49m\u001b[43madd_value\u001b[49m\n\u001b[32m      7\u001b[39m cv2.imshow(title, image)\n",
      "\u001b[31mOverflowError\u001b[39m: Python integer -64 out of bounds for uint8"
     ]
    },
    {
     "name": "stdout",
     "output_type": "stream",
     "text": [
      "추가 화소값: -61\n"
     ]
    },
    {
     "ename": "OverflowError",
     "evalue": "Python integer -61 out of bounds for uint8",
     "output_type": "error",
     "traceback": [
      "\u001b[31m---------------------------------------------------------------------------\u001b[39m",
      "\u001b[31mOverflowError\u001b[39m                             Traceback (most recent call last)",
      "\u001b[36mCell\u001b[39m\u001b[36m \u001b[39m\u001b[32mIn[4]\u001b[39m\u001b[32m, line 6\u001b[39m, in \u001b[36monChange\u001b[39m\u001b[34m(value)\u001b[39m\n\u001b[32m      4\u001b[39m add_value = value - \u001b[38;5;28mint\u001b[39m(image[\u001b[32m0\u001b[39m][\u001b[32m0\u001b[39m])\n\u001b[32m      5\u001b[39m \u001b[38;5;28mprint\u001b[39m(\u001b[33m\"\u001b[39m\u001b[33m추가 화소값:\u001b[39m\u001b[33m\"\u001b[39m, add_value)\n\u001b[32m----> \u001b[39m\u001b[32m6\u001b[39m image = \u001b[43mimage\u001b[49m\u001b[43m \u001b[49m\u001b[43m+\u001b[49m\u001b[43m \u001b[49m\u001b[43madd_value\u001b[49m\n\u001b[32m      7\u001b[39m cv2.imshow(title, image)\n",
      "\u001b[31mOverflowError\u001b[39m: Python integer -61 out of bounds for uint8"
     ]
    },
    {
     "name": "stdout",
     "output_type": "stream",
     "text": [
      "추가 화소값: -57\n"
     ]
    },
    {
     "ename": "OverflowError",
     "evalue": "Python integer -57 out of bounds for uint8",
     "output_type": "error",
     "traceback": [
      "\u001b[31m---------------------------------------------------------------------------\u001b[39m",
      "\u001b[31mOverflowError\u001b[39m                             Traceback (most recent call last)",
      "\u001b[36mCell\u001b[39m\u001b[36m \u001b[39m\u001b[32mIn[4]\u001b[39m\u001b[32m, line 6\u001b[39m, in \u001b[36monChange\u001b[39m\u001b[34m(value)\u001b[39m\n\u001b[32m      4\u001b[39m add_value = value - \u001b[38;5;28mint\u001b[39m(image[\u001b[32m0\u001b[39m][\u001b[32m0\u001b[39m])\n\u001b[32m      5\u001b[39m \u001b[38;5;28mprint\u001b[39m(\u001b[33m\"\u001b[39m\u001b[33m추가 화소값:\u001b[39m\u001b[33m\"\u001b[39m, add_value)\n\u001b[32m----> \u001b[39m\u001b[32m6\u001b[39m image = \u001b[43mimage\u001b[49m\u001b[43m \u001b[49m\u001b[43m+\u001b[49m\u001b[43m \u001b[49m\u001b[43madd_value\u001b[49m\n\u001b[32m      7\u001b[39m cv2.imshow(title, image)\n",
      "\u001b[31mOverflowError\u001b[39m: Python integer -57 out of bounds for uint8"
     ]
    },
    {
     "name": "stdout",
     "output_type": "stream",
     "text": [
      "추가 화소값: -53\n"
     ]
    },
    {
     "ename": "OverflowError",
     "evalue": "Python integer -53 out of bounds for uint8",
     "output_type": "error",
     "traceback": [
      "\u001b[31m---------------------------------------------------------------------------\u001b[39m",
      "\u001b[31mOverflowError\u001b[39m                             Traceback (most recent call last)",
      "\u001b[36mCell\u001b[39m\u001b[36m \u001b[39m\u001b[32mIn[4]\u001b[39m\u001b[32m, line 6\u001b[39m, in \u001b[36monChange\u001b[39m\u001b[34m(value)\u001b[39m\n\u001b[32m      4\u001b[39m add_value = value - \u001b[38;5;28mint\u001b[39m(image[\u001b[32m0\u001b[39m][\u001b[32m0\u001b[39m])\n\u001b[32m      5\u001b[39m \u001b[38;5;28mprint\u001b[39m(\u001b[33m\"\u001b[39m\u001b[33m추가 화소값:\u001b[39m\u001b[33m\"\u001b[39m, add_value)\n\u001b[32m----> \u001b[39m\u001b[32m6\u001b[39m image = \u001b[43mimage\u001b[49m\u001b[43m \u001b[49m\u001b[43m+\u001b[49m\u001b[43m \u001b[49m\u001b[43madd_value\u001b[49m\n\u001b[32m      7\u001b[39m cv2.imshow(title, image)\n",
      "\u001b[31mOverflowError\u001b[39m: Python integer -53 out of bounds for uint8"
     ]
    },
    {
     "name": "stdout",
     "output_type": "stream",
     "text": [
      "추가 화소값: -49\n"
     ]
    },
    {
     "ename": "OverflowError",
     "evalue": "Python integer -49 out of bounds for uint8",
     "output_type": "error",
     "traceback": [
      "\u001b[31m---------------------------------------------------------------------------\u001b[39m",
      "\u001b[31mOverflowError\u001b[39m                             Traceback (most recent call last)",
      "\u001b[36mCell\u001b[39m\u001b[36m \u001b[39m\u001b[32mIn[4]\u001b[39m\u001b[32m, line 6\u001b[39m, in \u001b[36monChange\u001b[39m\u001b[34m(value)\u001b[39m\n\u001b[32m      4\u001b[39m add_value = value - \u001b[38;5;28mint\u001b[39m(image[\u001b[32m0\u001b[39m][\u001b[32m0\u001b[39m])\n\u001b[32m      5\u001b[39m \u001b[38;5;28mprint\u001b[39m(\u001b[33m\"\u001b[39m\u001b[33m추가 화소값:\u001b[39m\u001b[33m\"\u001b[39m, add_value)\n\u001b[32m----> \u001b[39m\u001b[32m6\u001b[39m image = \u001b[43mimage\u001b[49m\u001b[43m \u001b[49m\u001b[43m+\u001b[49m\u001b[43m \u001b[49m\u001b[43madd_value\u001b[49m\n\u001b[32m      7\u001b[39m cv2.imshow(title, image)\n",
      "\u001b[31mOverflowError\u001b[39m: Python integer -49 out of bounds for uint8"
     ]
    },
    {
     "name": "stdout",
     "output_type": "stream",
     "text": [
      "추가 화소값: -45\n"
     ]
    },
    {
     "ename": "OverflowError",
     "evalue": "Python integer -45 out of bounds for uint8",
     "output_type": "error",
     "traceback": [
      "\u001b[31m---------------------------------------------------------------------------\u001b[39m",
      "\u001b[31mOverflowError\u001b[39m                             Traceback (most recent call last)",
      "\u001b[36mCell\u001b[39m\u001b[36m \u001b[39m\u001b[32mIn[4]\u001b[39m\u001b[32m, line 6\u001b[39m, in \u001b[36monChange\u001b[39m\u001b[34m(value)\u001b[39m\n\u001b[32m      4\u001b[39m add_value = value - \u001b[38;5;28mint\u001b[39m(image[\u001b[32m0\u001b[39m][\u001b[32m0\u001b[39m])\n\u001b[32m      5\u001b[39m \u001b[38;5;28mprint\u001b[39m(\u001b[33m\"\u001b[39m\u001b[33m추가 화소값:\u001b[39m\u001b[33m\"\u001b[39m, add_value)\n\u001b[32m----> \u001b[39m\u001b[32m6\u001b[39m image = \u001b[43mimage\u001b[49m\u001b[43m \u001b[49m\u001b[43m+\u001b[49m\u001b[43m \u001b[49m\u001b[43madd_value\u001b[49m\n\u001b[32m      7\u001b[39m cv2.imshow(title, image)\n",
      "\u001b[31mOverflowError\u001b[39m: Python integer -45 out of bounds for uint8"
     ]
    },
    {
     "name": "stdout",
     "output_type": "stream",
     "text": [
      "추가 화소값: -40\n"
     ]
    },
    {
     "ename": "OverflowError",
     "evalue": "Python integer -40 out of bounds for uint8",
     "output_type": "error",
     "traceback": [
      "\u001b[31m---------------------------------------------------------------------------\u001b[39m",
      "\u001b[31mOverflowError\u001b[39m                             Traceback (most recent call last)",
      "\u001b[36mCell\u001b[39m\u001b[36m \u001b[39m\u001b[32mIn[4]\u001b[39m\u001b[32m, line 6\u001b[39m, in \u001b[36monChange\u001b[39m\u001b[34m(value)\u001b[39m\n\u001b[32m      4\u001b[39m add_value = value - \u001b[38;5;28mint\u001b[39m(image[\u001b[32m0\u001b[39m][\u001b[32m0\u001b[39m])\n\u001b[32m      5\u001b[39m \u001b[38;5;28mprint\u001b[39m(\u001b[33m\"\u001b[39m\u001b[33m추가 화소값:\u001b[39m\u001b[33m\"\u001b[39m, add_value)\n\u001b[32m----> \u001b[39m\u001b[32m6\u001b[39m image = \u001b[43mimage\u001b[49m\u001b[43m \u001b[49m\u001b[43m+\u001b[49m\u001b[43m \u001b[49m\u001b[43madd_value\u001b[49m\n\u001b[32m      7\u001b[39m cv2.imshow(title, image)\n",
      "\u001b[31mOverflowError\u001b[39m: Python integer -40 out of bounds for uint8"
     ]
    },
    {
     "name": "stdout",
     "output_type": "stream",
     "text": [
      "추가 화소값: -31\n"
     ]
    },
    {
     "ename": "OverflowError",
     "evalue": "Python integer -31 out of bounds for uint8",
     "output_type": "error",
     "traceback": [
      "\u001b[31m---------------------------------------------------------------------------\u001b[39m",
      "\u001b[31mOverflowError\u001b[39m                             Traceback (most recent call last)",
      "\u001b[36mCell\u001b[39m\u001b[36m \u001b[39m\u001b[32mIn[4]\u001b[39m\u001b[32m, line 6\u001b[39m, in \u001b[36monChange\u001b[39m\u001b[34m(value)\u001b[39m\n\u001b[32m      4\u001b[39m add_value = value - \u001b[38;5;28mint\u001b[39m(image[\u001b[32m0\u001b[39m][\u001b[32m0\u001b[39m])\n\u001b[32m      5\u001b[39m \u001b[38;5;28mprint\u001b[39m(\u001b[33m\"\u001b[39m\u001b[33m추가 화소값:\u001b[39m\u001b[33m\"\u001b[39m, add_value)\n\u001b[32m----> \u001b[39m\u001b[32m6\u001b[39m image = \u001b[43mimage\u001b[49m\u001b[43m \u001b[49m\u001b[43m+\u001b[49m\u001b[43m \u001b[49m\u001b[43madd_value\u001b[49m\n\u001b[32m      7\u001b[39m cv2.imshow(title, image)\n",
      "\u001b[31mOverflowError\u001b[39m: Python integer -31 out of bounds for uint8"
     ]
    },
    {
     "name": "stdout",
     "output_type": "stream",
     "text": [
      "추가 화소값: -20\n"
     ]
    },
    {
     "ename": "OverflowError",
     "evalue": "Python integer -20 out of bounds for uint8",
     "output_type": "error",
     "traceback": [
      "\u001b[31m---------------------------------------------------------------------------\u001b[39m",
      "\u001b[31mOverflowError\u001b[39m                             Traceback (most recent call last)",
      "\u001b[36mCell\u001b[39m\u001b[36m \u001b[39m\u001b[32mIn[4]\u001b[39m\u001b[32m, line 6\u001b[39m, in \u001b[36monChange\u001b[39m\u001b[34m(value)\u001b[39m\n\u001b[32m      4\u001b[39m add_value = value - \u001b[38;5;28mint\u001b[39m(image[\u001b[32m0\u001b[39m][\u001b[32m0\u001b[39m])\n\u001b[32m      5\u001b[39m \u001b[38;5;28mprint\u001b[39m(\u001b[33m\"\u001b[39m\u001b[33m추가 화소값:\u001b[39m\u001b[33m\"\u001b[39m, add_value)\n\u001b[32m----> \u001b[39m\u001b[32m6\u001b[39m image = \u001b[43mimage\u001b[49m\u001b[43m \u001b[49m\u001b[43m+\u001b[49m\u001b[43m \u001b[49m\u001b[43madd_value\u001b[49m\n\u001b[32m      7\u001b[39m cv2.imshow(title, image)\n",
      "\u001b[31mOverflowError\u001b[39m: Python integer -20 out of bounds for uint8"
     ]
    },
    {
     "name": "stdout",
     "output_type": "stream",
     "text": [
      "추가 화소값: -7\n"
     ]
    },
    {
     "ename": "OverflowError",
     "evalue": "Python integer -7 out of bounds for uint8",
     "output_type": "error",
     "traceback": [
      "\u001b[31m---------------------------------------------------------------------------\u001b[39m",
      "\u001b[31mOverflowError\u001b[39m                             Traceback (most recent call last)",
      "\u001b[36mCell\u001b[39m\u001b[36m \u001b[39m\u001b[32mIn[4]\u001b[39m\u001b[32m, line 6\u001b[39m, in \u001b[36monChange\u001b[39m\u001b[34m(value)\u001b[39m\n\u001b[32m      4\u001b[39m add_value = value - \u001b[38;5;28mint\u001b[39m(image[\u001b[32m0\u001b[39m][\u001b[32m0\u001b[39m])\n\u001b[32m      5\u001b[39m \u001b[38;5;28mprint\u001b[39m(\u001b[33m\"\u001b[39m\u001b[33m추가 화소값:\u001b[39m\u001b[33m\"\u001b[39m, add_value)\n\u001b[32m----> \u001b[39m\u001b[32m6\u001b[39m image = \u001b[43mimage\u001b[49m\u001b[43m \u001b[49m\u001b[43m+\u001b[49m\u001b[43m \u001b[49m\u001b[43madd_value\u001b[49m\n\u001b[32m      7\u001b[39m cv2.imshow(title, image)\n",
      "\u001b[31mOverflowError\u001b[39m: Python integer -7 out of bounds for uint8"
     ]
    },
    {
     "name": "stdout",
     "output_type": "stream",
     "text": [
      "추가 화소값: 9\n",
      "추가 화소값: 2\n",
      "추가 화소값: 3\n",
      "추가 화소값: 3\n",
      "추가 화소값: 2\n",
      "추가 화소값: 3\n",
      "추가 화소값: 3\n",
      "추가 화소값: 1\n",
      "추가 화소값: 3\n",
      "추가 화소값: 2\n",
      "추가 화소값: 3\n",
      "추가 화소값: 3\n",
      "추가 화소값: 1\n",
      "추가 화소값: 3\n",
      "추가 화소값: 3\n",
      "추가 화소값: 2\n",
      "추가 화소값: 3\n",
      "추가 화소값: 3\n",
      "추가 화소값: 3\n",
      "추가 화소값: 2\n",
      "추가 화소값: 2\n",
      "추가 화소값: 2\n",
      "추가 화소값: 2\n",
      "추가 화소값: 1\n",
      "추가 화소값: 1\n",
      "추가 화소값: 1\n",
      "추가 화소값: 1\n",
      "추가 화소값: 1\n",
      "추가 화소값: 1\n",
      "추가 화소값: 1\n",
      "추가 화소값: 1\n",
      "추가 화소값: 1\n",
      "추가 화소값: 1\n",
      "추가 화소값: 1\n",
      "추가 화소값: 2\n",
      "추가 화소값: 1\n",
      "추가 화소값: 1\n",
      "추가 화소값: 1\n",
      "추가 화소값: 1\n",
      "추가 화소값: 1\n",
      "추가 화소값: 1\n",
      "추가 화소값: 2\n",
      "추가 화소값: 2\n",
      "추가 화소값: 2\n",
      "추가 화소값: 4\n",
      "추가 화소값: 5\n",
      "추가 화소값: 4\n",
      "추가 화소값: 4\n",
      "추가 화소값: 4\n",
      "추가 화소값: 5\n",
      "추가 화소값: 4\n",
      "추가 화소값: 4\n",
      "추가 화소값: 5\n",
      "추가 화소값: 2\n",
      "추가 화소값: -1\n"
     ]
    },
    {
     "ename": "OverflowError",
     "evalue": "Python integer -1 out of bounds for uint8",
     "output_type": "error",
     "traceback": [
      "\u001b[31m---------------------------------------------------------------------------\u001b[39m",
      "\u001b[31mOverflowError\u001b[39m                             Traceback (most recent call last)",
      "\u001b[36mCell\u001b[39m\u001b[36m \u001b[39m\u001b[32mIn[4]\u001b[39m\u001b[32m, line 6\u001b[39m, in \u001b[36monChange\u001b[39m\u001b[34m(value)\u001b[39m\n\u001b[32m      4\u001b[39m add_value = value - \u001b[38;5;28mint\u001b[39m(image[\u001b[32m0\u001b[39m][\u001b[32m0\u001b[39m])\n\u001b[32m      5\u001b[39m \u001b[38;5;28mprint\u001b[39m(\u001b[33m\"\u001b[39m\u001b[33m추가 화소값:\u001b[39m\u001b[33m\"\u001b[39m, add_value)\n\u001b[32m----> \u001b[39m\u001b[32m6\u001b[39m image = \u001b[43mimage\u001b[49m\u001b[43m \u001b[49m\u001b[43m+\u001b[49m\u001b[43m \u001b[49m\u001b[43madd_value\u001b[49m\n\u001b[32m      7\u001b[39m cv2.imshow(title, image)\n",
      "\u001b[31mOverflowError\u001b[39m: Python integer -1 out of bounds for uint8"
     ]
    },
    {
     "name": "stdout",
     "output_type": "stream",
     "text": [
      "추가 화소값: -48\n"
     ]
    },
    {
     "ename": "OverflowError",
     "evalue": "Python integer -48 out of bounds for uint8",
     "output_type": "error",
     "traceback": [
      "\u001b[31m---------------------------------------------------------------------------\u001b[39m",
      "\u001b[31mOverflowError\u001b[39m                             Traceback (most recent call last)",
      "\u001b[36mCell\u001b[39m\u001b[36m \u001b[39m\u001b[32mIn[4]\u001b[39m\u001b[32m, line 6\u001b[39m, in \u001b[36monChange\u001b[39m\u001b[34m(value)\u001b[39m\n\u001b[32m      4\u001b[39m add_value = value - \u001b[38;5;28mint\u001b[39m(image[\u001b[32m0\u001b[39m][\u001b[32m0\u001b[39m])\n\u001b[32m      5\u001b[39m \u001b[38;5;28mprint\u001b[39m(\u001b[33m\"\u001b[39m\u001b[33m추가 화소값:\u001b[39m\u001b[33m\"\u001b[39m, add_value)\n\u001b[32m----> \u001b[39m\u001b[32m6\u001b[39m image = \u001b[43mimage\u001b[49m\u001b[43m \u001b[49m\u001b[43m+\u001b[49m\u001b[43m \u001b[49m\u001b[43madd_value\u001b[49m\n\u001b[32m      7\u001b[39m cv2.imshow(title, image)\n",
      "\u001b[31mOverflowError\u001b[39m: Python integer -48 out of bounds for uint8"
     ]
    },
    {
     "name": "stdout",
     "output_type": "stream",
     "text": [
      "추가 화소값: -101\n"
     ]
    },
    {
     "ename": "OverflowError",
     "evalue": "Python integer -101 out of bounds for uint8",
     "output_type": "error",
     "traceback": [
      "\u001b[31m---------------------------------------------------------------------------\u001b[39m",
      "\u001b[31mOverflowError\u001b[39m                             Traceback (most recent call last)",
      "\u001b[36mCell\u001b[39m\u001b[36m \u001b[39m\u001b[32mIn[4]\u001b[39m\u001b[32m, line 6\u001b[39m, in \u001b[36monChange\u001b[39m\u001b[34m(value)\u001b[39m\n\u001b[32m      4\u001b[39m add_value = value - \u001b[38;5;28mint\u001b[39m(image[\u001b[32m0\u001b[39m][\u001b[32m0\u001b[39m])\n\u001b[32m      5\u001b[39m \u001b[38;5;28mprint\u001b[39m(\u001b[33m\"\u001b[39m\u001b[33m추가 화소값:\u001b[39m\u001b[33m\"\u001b[39m, add_value)\n\u001b[32m----> \u001b[39m\u001b[32m6\u001b[39m image = \u001b[43mimage\u001b[49m\u001b[43m \u001b[49m\u001b[43m+\u001b[49m\u001b[43m \u001b[49m\u001b[43madd_value\u001b[49m\n\u001b[32m      7\u001b[39m cv2.imshow(title, image)\n",
      "\u001b[31mOverflowError\u001b[39m: Python integer -101 out of bounds for uint8"
     ]
    },
    {
     "name": "stdout",
     "output_type": "stream",
     "text": [
      "추가 화소값: -149\n"
     ]
    },
    {
     "ename": "OverflowError",
     "evalue": "Python integer -149 out of bounds for uint8",
     "output_type": "error",
     "traceback": [
      "\u001b[31m---------------------------------------------------------------------------\u001b[39m",
      "\u001b[31mOverflowError\u001b[39m                             Traceback (most recent call last)",
      "\u001b[36mCell\u001b[39m\u001b[36m \u001b[39m\u001b[32mIn[4]\u001b[39m\u001b[32m, line 6\u001b[39m, in \u001b[36monChange\u001b[39m\u001b[34m(value)\u001b[39m\n\u001b[32m      4\u001b[39m add_value = value - \u001b[38;5;28mint\u001b[39m(image[\u001b[32m0\u001b[39m][\u001b[32m0\u001b[39m])\n\u001b[32m      5\u001b[39m \u001b[38;5;28mprint\u001b[39m(\u001b[33m\"\u001b[39m\u001b[33m추가 화소값:\u001b[39m\u001b[33m\"\u001b[39m, add_value)\n\u001b[32m----> \u001b[39m\u001b[32m6\u001b[39m image = \u001b[43mimage\u001b[49m\u001b[43m \u001b[49m\u001b[43m+\u001b[49m\u001b[43m \u001b[49m\u001b[43madd_value\u001b[49m\n\u001b[32m      7\u001b[39m cv2.imshow(title, image)\n",
      "\u001b[31mOverflowError\u001b[39m: Python integer -149 out of bounds for uint8"
     ]
    },
    {
     "name": "stdout",
     "output_type": "stream",
     "text": [
      "추가 화소값: -178\n"
     ]
    },
    {
     "ename": "OverflowError",
     "evalue": "Python integer -178 out of bounds for uint8",
     "output_type": "error",
     "traceback": [
      "\u001b[31m---------------------------------------------------------------------------\u001b[39m",
      "\u001b[31mOverflowError\u001b[39m                             Traceback (most recent call last)",
      "\u001b[36mCell\u001b[39m\u001b[36m \u001b[39m\u001b[32mIn[4]\u001b[39m\u001b[32m, line 6\u001b[39m, in \u001b[36monChange\u001b[39m\u001b[34m(value)\u001b[39m\n\u001b[32m      4\u001b[39m add_value = value - \u001b[38;5;28mint\u001b[39m(image[\u001b[32m0\u001b[39m][\u001b[32m0\u001b[39m])\n\u001b[32m      5\u001b[39m \u001b[38;5;28mprint\u001b[39m(\u001b[33m\"\u001b[39m\u001b[33m추가 화소값:\u001b[39m\u001b[33m\"\u001b[39m, add_value)\n\u001b[32m----> \u001b[39m\u001b[32m6\u001b[39m image = \u001b[43mimage\u001b[49m\u001b[43m \u001b[49m\u001b[43m+\u001b[49m\u001b[43m \u001b[49m\u001b[43madd_value\u001b[49m\n\u001b[32m      7\u001b[39m cv2.imshow(title, image)\n",
      "\u001b[31mOverflowError\u001b[39m: Python integer -178 out of bounds for uint8"
     ]
    },
    {
     "name": "stdout",
     "output_type": "stream",
     "text": [
      "추가 화소값: -197\n"
     ]
    },
    {
     "ename": "OverflowError",
     "evalue": "Python integer -197 out of bounds for uint8",
     "output_type": "error",
     "traceback": [
      "\u001b[31m---------------------------------------------------------------------------\u001b[39m",
      "\u001b[31mOverflowError\u001b[39m                             Traceback (most recent call last)",
      "\u001b[36mCell\u001b[39m\u001b[36m \u001b[39m\u001b[32mIn[4]\u001b[39m\u001b[32m, line 6\u001b[39m, in \u001b[36monChange\u001b[39m\u001b[34m(value)\u001b[39m\n\u001b[32m      4\u001b[39m add_value = value - \u001b[38;5;28mint\u001b[39m(image[\u001b[32m0\u001b[39m][\u001b[32m0\u001b[39m])\n\u001b[32m      5\u001b[39m \u001b[38;5;28mprint\u001b[39m(\u001b[33m\"\u001b[39m\u001b[33m추가 화소값:\u001b[39m\u001b[33m\"\u001b[39m, add_value)\n\u001b[32m----> \u001b[39m\u001b[32m6\u001b[39m image = \u001b[43mimage\u001b[49m\u001b[43m \u001b[49m\u001b[43m+\u001b[49m\u001b[43m \u001b[49m\u001b[43madd_value\u001b[49m\n\u001b[32m      7\u001b[39m cv2.imshow(title, image)\n",
      "\u001b[31mOverflowError\u001b[39m: Python integer -197 out of bounds for uint8"
     ]
    },
    {
     "name": "stdout",
     "output_type": "stream",
     "text": [
      "추가 화소값: -208\n"
     ]
    },
    {
     "ename": "OverflowError",
     "evalue": "Python integer -208 out of bounds for uint8",
     "output_type": "error",
     "traceback": [
      "\u001b[31m---------------------------------------------------------------------------\u001b[39m",
      "\u001b[31mOverflowError\u001b[39m                             Traceback (most recent call last)",
      "\u001b[36mCell\u001b[39m\u001b[36m \u001b[39m\u001b[32mIn[4]\u001b[39m\u001b[32m, line 6\u001b[39m, in \u001b[36monChange\u001b[39m\u001b[34m(value)\u001b[39m\n\u001b[32m      4\u001b[39m add_value = value - \u001b[38;5;28mint\u001b[39m(image[\u001b[32m0\u001b[39m][\u001b[32m0\u001b[39m])\n\u001b[32m      5\u001b[39m \u001b[38;5;28mprint\u001b[39m(\u001b[33m\"\u001b[39m\u001b[33m추가 화소값:\u001b[39m\u001b[33m\"\u001b[39m, add_value)\n\u001b[32m----> \u001b[39m\u001b[32m6\u001b[39m image = \u001b[43mimage\u001b[49m\u001b[43m \u001b[49m\u001b[43m+\u001b[49m\u001b[43m \u001b[49m\u001b[43madd_value\u001b[49m\n\u001b[32m      7\u001b[39m cv2.imshow(title, image)\n",
      "\u001b[31mOverflowError\u001b[39m: Python integer -208 out of bounds for uint8"
     ]
    },
    {
     "name": "stdout",
     "output_type": "stream",
     "text": [
      "추가 화소값: -219\n"
     ]
    },
    {
     "ename": "OverflowError",
     "evalue": "Python integer -219 out of bounds for uint8",
     "output_type": "error",
     "traceback": [
      "\u001b[31m---------------------------------------------------------------------------\u001b[39m",
      "\u001b[31mOverflowError\u001b[39m                             Traceback (most recent call last)",
      "\u001b[36mCell\u001b[39m\u001b[36m \u001b[39m\u001b[32mIn[4]\u001b[39m\u001b[32m, line 6\u001b[39m, in \u001b[36monChange\u001b[39m\u001b[34m(value)\u001b[39m\n\u001b[32m      4\u001b[39m add_value = value - \u001b[38;5;28mint\u001b[39m(image[\u001b[32m0\u001b[39m][\u001b[32m0\u001b[39m])\n\u001b[32m      5\u001b[39m \u001b[38;5;28mprint\u001b[39m(\u001b[33m\"\u001b[39m\u001b[33m추가 화소값:\u001b[39m\u001b[33m\"\u001b[39m, add_value)\n\u001b[32m----> \u001b[39m\u001b[32m6\u001b[39m image = \u001b[43mimage\u001b[49m\u001b[43m \u001b[49m\u001b[43m+\u001b[49m\u001b[43m \u001b[49m\u001b[43madd_value\u001b[49m\n\u001b[32m      7\u001b[39m cv2.imshow(title, image)\n",
      "\u001b[31mOverflowError\u001b[39m: Python integer -219 out of bounds for uint8"
     ]
    },
    {
     "name": "stdout",
     "output_type": "stream",
     "text": [
      "추가 화소값: -220\n"
     ]
    },
    {
     "ename": "OverflowError",
     "evalue": "Python integer -220 out of bounds for uint8",
     "output_type": "error",
     "traceback": [
      "\u001b[31m---------------------------------------------------------------------------\u001b[39m",
      "\u001b[31mOverflowError\u001b[39m                             Traceback (most recent call last)",
      "\u001b[36mCell\u001b[39m\u001b[36m \u001b[39m\u001b[32mIn[4]\u001b[39m\u001b[32m, line 6\u001b[39m, in \u001b[36monChange\u001b[39m\u001b[34m(value)\u001b[39m\n\u001b[32m      4\u001b[39m add_value = value - \u001b[38;5;28mint\u001b[39m(image[\u001b[32m0\u001b[39m][\u001b[32m0\u001b[39m])\n\u001b[32m      5\u001b[39m \u001b[38;5;28mprint\u001b[39m(\u001b[33m\"\u001b[39m\u001b[33m추가 화소값:\u001b[39m\u001b[33m\"\u001b[39m, add_value)\n\u001b[32m----> \u001b[39m\u001b[32m6\u001b[39m image = \u001b[43mimage\u001b[49m\u001b[43m \u001b[49m\u001b[43m+\u001b[49m\u001b[43m \u001b[49m\u001b[43madd_value\u001b[49m\n\u001b[32m      7\u001b[39m cv2.imshow(title, image)\n",
      "\u001b[31mOverflowError\u001b[39m: Python integer -220 out of bounds for uint8"
     ]
    },
    {
     "name": "stdout",
     "output_type": "stream",
     "text": [
      "추가 화소값: -239\n"
     ]
    },
    {
     "ename": "OverflowError",
     "evalue": "Python integer -239 out of bounds for uint8",
     "output_type": "error",
     "traceback": [
      "\u001b[31m---------------------------------------------------------------------------\u001b[39m",
      "\u001b[31mOverflowError\u001b[39m                             Traceback (most recent call last)",
      "\u001b[36mCell\u001b[39m\u001b[36m \u001b[39m\u001b[32mIn[4]\u001b[39m\u001b[32m, line 6\u001b[39m, in \u001b[36monChange\u001b[39m\u001b[34m(value)\u001b[39m\n\u001b[32m      4\u001b[39m add_value = value - \u001b[38;5;28mint\u001b[39m(image[\u001b[32m0\u001b[39m][\u001b[32m0\u001b[39m])\n\u001b[32m      5\u001b[39m \u001b[38;5;28mprint\u001b[39m(\u001b[33m\"\u001b[39m\u001b[33m추가 화소값:\u001b[39m\u001b[33m\"\u001b[39m, add_value)\n\u001b[32m----> \u001b[39m\u001b[32m6\u001b[39m image = \u001b[43mimage\u001b[49m\u001b[43m \u001b[49m\u001b[43m+\u001b[49m\u001b[43m \u001b[49m\u001b[43madd_value\u001b[49m\n\u001b[32m      7\u001b[39m cv2.imshow(title, image)\n",
      "\u001b[31mOverflowError\u001b[39m: Python integer -239 out of bounds for uint8"
     ]
    },
    {
     "name": "stdout",
     "output_type": "stream",
     "text": [
      "추가 화소값: -255\n"
     ]
    },
    {
     "ename": "OverflowError",
     "evalue": "Python integer -255 out of bounds for uint8",
     "output_type": "error",
     "traceback": [
      "\u001b[31m---------------------------------------------------------------------------\u001b[39m",
      "\u001b[31mOverflowError\u001b[39m                             Traceback (most recent call last)",
      "\u001b[36mCell\u001b[39m\u001b[36m \u001b[39m\u001b[32mIn[4]\u001b[39m\u001b[32m, line 6\u001b[39m, in \u001b[36monChange\u001b[39m\u001b[34m(value)\u001b[39m\n\u001b[32m      4\u001b[39m add_value = value - \u001b[38;5;28mint\u001b[39m(image[\u001b[32m0\u001b[39m][\u001b[32m0\u001b[39m])\n\u001b[32m      5\u001b[39m \u001b[38;5;28mprint\u001b[39m(\u001b[33m\"\u001b[39m\u001b[33m추가 화소값:\u001b[39m\u001b[33m\"\u001b[39m, add_value)\n\u001b[32m----> \u001b[39m\u001b[32m6\u001b[39m image = \u001b[43mimage\u001b[49m\u001b[43m \u001b[49m\u001b[43m+\u001b[49m\u001b[43m \u001b[49m\u001b[43madd_value\u001b[49m\n\u001b[32m      7\u001b[39m cv2.imshow(title, image)\n",
      "\u001b[31mOverflowError\u001b[39m: Python integer -255 out of bounds for uint8"
     ]
    },
    {
     "name": "stdout",
     "output_type": "stream",
     "text": [
      "추가 화소값: -254\n"
     ]
    },
    {
     "ename": "OverflowError",
     "evalue": "Python integer -254 out of bounds for uint8",
     "output_type": "error",
     "traceback": [
      "\u001b[31m---------------------------------------------------------------------------\u001b[39m",
      "\u001b[31mOverflowError\u001b[39m                             Traceback (most recent call last)",
      "\u001b[36mCell\u001b[39m\u001b[36m \u001b[39m\u001b[32mIn[4]\u001b[39m\u001b[32m, line 6\u001b[39m, in \u001b[36monChange\u001b[39m\u001b[34m(value)\u001b[39m\n\u001b[32m      4\u001b[39m add_value = value - \u001b[38;5;28mint\u001b[39m(image[\u001b[32m0\u001b[39m][\u001b[32m0\u001b[39m])\n\u001b[32m      5\u001b[39m \u001b[38;5;28mprint\u001b[39m(\u001b[33m\"\u001b[39m\u001b[33m추가 화소값:\u001b[39m\u001b[33m\"\u001b[39m, add_value)\n\u001b[32m----> \u001b[39m\u001b[32m6\u001b[39m image = \u001b[43mimage\u001b[49m\u001b[43m \u001b[49m\u001b[43m+\u001b[49m\u001b[43m \u001b[49m\u001b[43madd_value\u001b[49m\n\u001b[32m      7\u001b[39m cv2.imshow(title, image)\n",
      "\u001b[31mOverflowError\u001b[39m: Python integer -254 out of bounds for uint8"
     ]
    },
    {
     "name": "stdout",
     "output_type": "stream",
     "text": [
      "추가 화소값: -237\n"
     ]
    },
    {
     "ename": "OverflowError",
     "evalue": "Python integer -237 out of bounds for uint8",
     "output_type": "error",
     "traceback": [
      "\u001b[31m---------------------------------------------------------------------------\u001b[39m",
      "\u001b[31mOverflowError\u001b[39m                             Traceback (most recent call last)",
      "\u001b[36mCell\u001b[39m\u001b[36m \u001b[39m\u001b[32mIn[4]\u001b[39m\u001b[32m, line 6\u001b[39m, in \u001b[36monChange\u001b[39m\u001b[34m(value)\u001b[39m\n\u001b[32m      4\u001b[39m add_value = value - \u001b[38;5;28mint\u001b[39m(image[\u001b[32m0\u001b[39m][\u001b[32m0\u001b[39m])\n\u001b[32m      5\u001b[39m \u001b[38;5;28mprint\u001b[39m(\u001b[33m\"\u001b[39m\u001b[33m추가 화소값:\u001b[39m\u001b[33m\"\u001b[39m, add_value)\n\u001b[32m----> \u001b[39m\u001b[32m6\u001b[39m image = \u001b[43mimage\u001b[49m\u001b[43m \u001b[49m\u001b[43m+\u001b[49m\u001b[43m \u001b[49m\u001b[43madd_value\u001b[49m\n\u001b[32m      7\u001b[39m cv2.imshow(title, image)\n",
      "\u001b[31mOverflowError\u001b[39m: Python integer -237 out of bounds for uint8"
     ]
    },
    {
     "name": "stdout",
     "output_type": "stream",
     "text": [
      "추가 화소값: -219\n"
     ]
    },
    {
     "ename": "OverflowError",
     "evalue": "Python integer -219 out of bounds for uint8",
     "output_type": "error",
     "traceback": [
      "\u001b[31m---------------------------------------------------------------------------\u001b[39m",
      "\u001b[31mOverflowError\u001b[39m                             Traceback (most recent call last)",
      "\u001b[36mCell\u001b[39m\u001b[36m \u001b[39m\u001b[32mIn[4]\u001b[39m\u001b[32m, line 6\u001b[39m, in \u001b[36monChange\u001b[39m\u001b[34m(value)\u001b[39m\n\u001b[32m      4\u001b[39m add_value = value - \u001b[38;5;28mint\u001b[39m(image[\u001b[32m0\u001b[39m][\u001b[32m0\u001b[39m])\n\u001b[32m      5\u001b[39m \u001b[38;5;28mprint\u001b[39m(\u001b[33m\"\u001b[39m\u001b[33m추가 화소값:\u001b[39m\u001b[33m\"\u001b[39m, add_value)\n\u001b[32m----> \u001b[39m\u001b[32m6\u001b[39m image = \u001b[43mimage\u001b[49m\u001b[43m \u001b[49m\u001b[43m+\u001b[49m\u001b[43m \u001b[49m\u001b[43madd_value\u001b[49m\n\u001b[32m      7\u001b[39m cv2.imshow(title, image)\n",
      "\u001b[31mOverflowError\u001b[39m: Python integer -219 out of bounds for uint8"
     ]
    },
    {
     "name": "stdout",
     "output_type": "stream",
     "text": [
      "추가 화소값: -181\n"
     ]
    },
    {
     "ename": "OverflowError",
     "evalue": "Python integer -181 out of bounds for uint8",
     "output_type": "error",
     "traceback": [
      "\u001b[31m---------------------------------------------------------------------------\u001b[39m",
      "\u001b[31mOverflowError\u001b[39m                             Traceback (most recent call last)",
      "\u001b[36mCell\u001b[39m\u001b[36m \u001b[39m\u001b[32mIn[4]\u001b[39m\u001b[32m, line 6\u001b[39m, in \u001b[36monChange\u001b[39m\u001b[34m(value)\u001b[39m\n\u001b[32m      4\u001b[39m add_value = value - \u001b[38;5;28mint\u001b[39m(image[\u001b[32m0\u001b[39m][\u001b[32m0\u001b[39m])\n\u001b[32m      5\u001b[39m \u001b[38;5;28mprint\u001b[39m(\u001b[33m\"\u001b[39m\u001b[33m추가 화소값:\u001b[39m\u001b[33m\"\u001b[39m, add_value)\n\u001b[32m----> \u001b[39m\u001b[32m6\u001b[39m image = \u001b[43mimage\u001b[49m\u001b[43m \u001b[49m\u001b[43m+\u001b[49m\u001b[43m \u001b[49m\u001b[43madd_value\u001b[49m\n\u001b[32m      7\u001b[39m cv2.imshow(title, image)\n",
      "\u001b[31mOverflowError\u001b[39m: Python integer -181 out of bounds for uint8"
     ]
    },
    {
     "name": "stdout",
     "output_type": "stream",
     "text": [
      "추가 화소값: -155\n"
     ]
    },
    {
     "ename": "OverflowError",
     "evalue": "Python integer -155 out of bounds for uint8",
     "output_type": "error",
     "traceback": [
      "\u001b[31m---------------------------------------------------------------------------\u001b[39m",
      "\u001b[31mOverflowError\u001b[39m                             Traceback (most recent call last)",
      "\u001b[36mCell\u001b[39m\u001b[36m \u001b[39m\u001b[32mIn[4]\u001b[39m\u001b[32m, line 6\u001b[39m, in \u001b[36monChange\u001b[39m\u001b[34m(value)\u001b[39m\n\u001b[32m      4\u001b[39m add_value = value - \u001b[38;5;28mint\u001b[39m(image[\u001b[32m0\u001b[39m][\u001b[32m0\u001b[39m])\n\u001b[32m      5\u001b[39m \u001b[38;5;28mprint\u001b[39m(\u001b[33m\"\u001b[39m\u001b[33m추가 화소값:\u001b[39m\u001b[33m\"\u001b[39m, add_value)\n\u001b[32m----> \u001b[39m\u001b[32m6\u001b[39m image = \u001b[43mimage\u001b[49m\u001b[43m \u001b[49m\u001b[43m+\u001b[49m\u001b[43m \u001b[49m\u001b[43madd_value\u001b[49m\n\u001b[32m      7\u001b[39m cv2.imshow(title, image)\n",
      "\u001b[31mOverflowError\u001b[39m: Python integer -155 out of bounds for uint8"
     ]
    },
    {
     "name": "stdout",
     "output_type": "stream",
     "text": [
      "추가 화소값: -134\n"
     ]
    },
    {
     "ename": "OverflowError",
     "evalue": "Python integer -134 out of bounds for uint8",
     "output_type": "error",
     "traceback": [
      "\u001b[31m---------------------------------------------------------------------------\u001b[39m",
      "\u001b[31mOverflowError\u001b[39m                             Traceback (most recent call last)",
      "\u001b[36mCell\u001b[39m\u001b[36m \u001b[39m\u001b[32mIn[4]\u001b[39m\u001b[32m, line 6\u001b[39m, in \u001b[36monChange\u001b[39m\u001b[34m(value)\u001b[39m\n\u001b[32m      4\u001b[39m add_value = value - \u001b[38;5;28mint\u001b[39m(image[\u001b[32m0\u001b[39m][\u001b[32m0\u001b[39m])\n\u001b[32m      5\u001b[39m \u001b[38;5;28mprint\u001b[39m(\u001b[33m\"\u001b[39m\u001b[33m추가 화소값:\u001b[39m\u001b[33m\"\u001b[39m, add_value)\n\u001b[32m----> \u001b[39m\u001b[32m6\u001b[39m image = \u001b[43mimage\u001b[49m\u001b[43m \u001b[49m\u001b[43m+\u001b[49m\u001b[43m \u001b[49m\u001b[43madd_value\u001b[49m\n\u001b[32m      7\u001b[39m cv2.imshow(title, image)\n",
      "\u001b[31mOverflowError\u001b[39m: Python integer -134 out of bounds for uint8"
     ]
    },
    {
     "name": "stdout",
     "output_type": "stream",
     "text": [
      "추가 화소값: -123\n"
     ]
    },
    {
     "ename": "OverflowError",
     "evalue": "Python integer -123 out of bounds for uint8",
     "output_type": "error",
     "traceback": [
      "\u001b[31m---------------------------------------------------------------------------\u001b[39m",
      "\u001b[31mOverflowError\u001b[39m                             Traceback (most recent call last)",
      "\u001b[36mCell\u001b[39m\u001b[36m \u001b[39m\u001b[32mIn[4]\u001b[39m\u001b[32m, line 6\u001b[39m, in \u001b[36monChange\u001b[39m\u001b[34m(value)\u001b[39m\n\u001b[32m      4\u001b[39m add_value = value - \u001b[38;5;28mint\u001b[39m(image[\u001b[32m0\u001b[39m][\u001b[32m0\u001b[39m])\n\u001b[32m      5\u001b[39m \u001b[38;5;28mprint\u001b[39m(\u001b[33m\"\u001b[39m\u001b[33m추가 화소값:\u001b[39m\u001b[33m\"\u001b[39m, add_value)\n\u001b[32m----> \u001b[39m\u001b[32m6\u001b[39m image = \u001b[43mimage\u001b[49m\u001b[43m \u001b[49m\u001b[43m+\u001b[49m\u001b[43m \u001b[49m\u001b[43madd_value\u001b[49m\n\u001b[32m      7\u001b[39m cv2.imshow(title, image)\n",
      "\u001b[31mOverflowError\u001b[39m: Python integer -123 out of bounds for uint8"
     ]
    },
    {
     "name": "stdout",
     "output_type": "stream",
     "text": [
      "추가 화소값: -124\n"
     ]
    },
    {
     "ename": "OverflowError",
     "evalue": "Python integer -124 out of bounds for uint8",
     "output_type": "error",
     "traceback": [
      "\u001b[31m---------------------------------------------------------------------------\u001b[39m",
      "\u001b[31mOverflowError\u001b[39m                             Traceback (most recent call last)",
      "\u001b[36mCell\u001b[39m\u001b[36m \u001b[39m\u001b[32mIn[4]\u001b[39m\u001b[32m, line 6\u001b[39m, in \u001b[36monChange\u001b[39m\u001b[34m(value)\u001b[39m\n\u001b[32m      4\u001b[39m add_value = value - \u001b[38;5;28mint\u001b[39m(image[\u001b[32m0\u001b[39m][\u001b[32m0\u001b[39m])\n\u001b[32m      5\u001b[39m \u001b[38;5;28mprint\u001b[39m(\u001b[33m\"\u001b[39m\u001b[33m추가 화소값:\u001b[39m\u001b[33m\"\u001b[39m, add_value)\n\u001b[32m----> \u001b[39m\u001b[32m6\u001b[39m image = \u001b[43mimage\u001b[49m\u001b[43m \u001b[49m\u001b[43m+\u001b[49m\u001b[43m \u001b[49m\u001b[43madd_value\u001b[49m\n\u001b[32m      7\u001b[39m cv2.imshow(title, image)\n",
      "\u001b[31mOverflowError\u001b[39m: Python integer -124 out of bounds for uint8"
     ]
    },
    {
     "name": "stdout",
     "output_type": "stream",
     "text": [
      "추가 화소값: -165\n"
     ]
    },
    {
     "ename": "OverflowError",
     "evalue": "Python integer -165 out of bounds for uint8",
     "output_type": "error",
     "traceback": [
      "\u001b[31m---------------------------------------------------------------------------\u001b[39m",
      "\u001b[31mOverflowError\u001b[39m                             Traceback (most recent call last)",
      "\u001b[36mCell\u001b[39m\u001b[36m \u001b[39m\u001b[32mIn[4]\u001b[39m\u001b[32m, line 6\u001b[39m, in \u001b[36monChange\u001b[39m\u001b[34m(value)\u001b[39m\n\u001b[32m      4\u001b[39m add_value = value - \u001b[38;5;28mint\u001b[39m(image[\u001b[32m0\u001b[39m][\u001b[32m0\u001b[39m])\n\u001b[32m      5\u001b[39m \u001b[38;5;28mprint\u001b[39m(\u001b[33m\"\u001b[39m\u001b[33m추가 화소값:\u001b[39m\u001b[33m\"\u001b[39m, add_value)\n\u001b[32m----> \u001b[39m\u001b[32m6\u001b[39m image = \u001b[43mimage\u001b[49m\u001b[43m \u001b[49m\u001b[43m+\u001b[49m\u001b[43m \u001b[49m\u001b[43madd_value\u001b[49m\n\u001b[32m      7\u001b[39m cv2.imshow(title, image)\n",
      "\u001b[31mOverflowError\u001b[39m: Python integer -165 out of bounds for uint8"
     ]
    },
    {
     "name": "stdout",
     "output_type": "stream",
     "text": [
      "추가 화소값: -184\n"
     ]
    },
    {
     "ename": "OverflowError",
     "evalue": "Python integer -184 out of bounds for uint8",
     "output_type": "error",
     "traceback": [
      "\u001b[31m---------------------------------------------------------------------------\u001b[39m",
      "\u001b[31mOverflowError\u001b[39m                             Traceback (most recent call last)",
      "\u001b[36mCell\u001b[39m\u001b[36m \u001b[39m\u001b[32mIn[4]\u001b[39m\u001b[32m, line 6\u001b[39m, in \u001b[36monChange\u001b[39m\u001b[34m(value)\u001b[39m\n\u001b[32m      4\u001b[39m add_value = value - \u001b[38;5;28mint\u001b[39m(image[\u001b[32m0\u001b[39m][\u001b[32m0\u001b[39m])\n\u001b[32m      5\u001b[39m \u001b[38;5;28mprint\u001b[39m(\u001b[33m\"\u001b[39m\u001b[33m추가 화소값:\u001b[39m\u001b[33m\"\u001b[39m, add_value)\n\u001b[32m----> \u001b[39m\u001b[32m6\u001b[39m image = \u001b[43mimage\u001b[49m\u001b[43m \u001b[49m\u001b[43m+\u001b[49m\u001b[43m \u001b[49m\u001b[43madd_value\u001b[49m\n\u001b[32m      7\u001b[39m cv2.imshow(title, image)\n",
      "\u001b[31mOverflowError\u001b[39m: Python integer -184 out of bounds for uint8"
     ]
    },
    {
     "name": "stdout",
     "output_type": "stream",
     "text": [
      "추가 화소값: -203\n"
     ]
    },
    {
     "ename": "OverflowError",
     "evalue": "Python integer -203 out of bounds for uint8",
     "output_type": "error",
     "traceback": [
      "\u001b[31m---------------------------------------------------------------------------\u001b[39m",
      "\u001b[31mOverflowError\u001b[39m                             Traceback (most recent call last)",
      "\u001b[36mCell\u001b[39m\u001b[36m \u001b[39m\u001b[32mIn[4]\u001b[39m\u001b[32m, line 6\u001b[39m, in \u001b[36monChange\u001b[39m\u001b[34m(value)\u001b[39m\n\u001b[32m      4\u001b[39m add_value = value - \u001b[38;5;28mint\u001b[39m(image[\u001b[32m0\u001b[39m][\u001b[32m0\u001b[39m])\n\u001b[32m      5\u001b[39m \u001b[38;5;28mprint\u001b[39m(\u001b[33m\"\u001b[39m\u001b[33m추가 화소값:\u001b[39m\u001b[33m\"\u001b[39m, add_value)\n\u001b[32m----> \u001b[39m\u001b[32m6\u001b[39m image = \u001b[43mimage\u001b[49m\u001b[43m \u001b[49m\u001b[43m+\u001b[49m\u001b[43m \u001b[49m\u001b[43madd_value\u001b[49m\n\u001b[32m      7\u001b[39m cv2.imshow(title, image)\n",
      "\u001b[31mOverflowError\u001b[39m: Python integer -203 out of bounds for uint8"
     ]
    },
    {
     "name": "stdout",
     "output_type": "stream",
     "text": [
      "추가 화소값: -222\n"
     ]
    },
    {
     "ename": "OverflowError",
     "evalue": "Python integer -222 out of bounds for uint8",
     "output_type": "error",
     "traceback": [
      "\u001b[31m---------------------------------------------------------------------------\u001b[39m",
      "\u001b[31mOverflowError\u001b[39m                             Traceback (most recent call last)",
      "\u001b[36mCell\u001b[39m\u001b[36m \u001b[39m\u001b[32mIn[4]\u001b[39m\u001b[32m, line 6\u001b[39m, in \u001b[36monChange\u001b[39m\u001b[34m(value)\u001b[39m\n\u001b[32m      4\u001b[39m add_value = value - \u001b[38;5;28mint\u001b[39m(image[\u001b[32m0\u001b[39m][\u001b[32m0\u001b[39m])\n\u001b[32m      5\u001b[39m \u001b[38;5;28mprint\u001b[39m(\u001b[33m\"\u001b[39m\u001b[33m추가 화소값:\u001b[39m\u001b[33m\"\u001b[39m, add_value)\n\u001b[32m----> \u001b[39m\u001b[32m6\u001b[39m image = \u001b[43mimage\u001b[49m\u001b[43m \u001b[49m\u001b[43m+\u001b[49m\u001b[43m \u001b[49m\u001b[43madd_value\u001b[49m\n\u001b[32m      7\u001b[39m cv2.imshow(title, image)\n",
      "\u001b[31mOverflowError\u001b[39m: Python integer -222 out of bounds for uint8"
     ]
    },
    {
     "name": "stdout",
     "output_type": "stream",
     "text": [
      "추가 화소값: -237\n"
     ]
    },
    {
     "ename": "OverflowError",
     "evalue": "Python integer -237 out of bounds for uint8",
     "output_type": "error",
     "traceback": [
      "\u001b[31m---------------------------------------------------------------------------\u001b[39m",
      "\u001b[31mOverflowError\u001b[39m                             Traceback (most recent call last)",
      "\u001b[36mCell\u001b[39m\u001b[36m \u001b[39m\u001b[32mIn[4]\u001b[39m\u001b[32m, line 6\u001b[39m, in \u001b[36monChange\u001b[39m\u001b[34m(value)\u001b[39m\n\u001b[32m      4\u001b[39m add_value = value - \u001b[38;5;28mint\u001b[39m(image[\u001b[32m0\u001b[39m][\u001b[32m0\u001b[39m])\n\u001b[32m      5\u001b[39m \u001b[38;5;28mprint\u001b[39m(\u001b[33m\"\u001b[39m\u001b[33m추가 화소값:\u001b[39m\u001b[33m\"\u001b[39m, add_value)\n\u001b[32m----> \u001b[39m\u001b[32m6\u001b[39m image = \u001b[43mimage\u001b[49m\u001b[43m \u001b[49m\u001b[43m+\u001b[49m\u001b[43m \u001b[49m\u001b[43madd_value\u001b[49m\n\u001b[32m      7\u001b[39m cv2.imshow(title, image)\n",
      "\u001b[31mOverflowError\u001b[39m: Python integer -237 out of bounds for uint8"
     ]
    },
    {
     "name": "stdout",
     "output_type": "stream",
     "text": [
      "추가 화소값: -251\n"
     ]
    },
    {
     "ename": "OverflowError",
     "evalue": "Python integer -251 out of bounds for uint8",
     "output_type": "error",
     "traceback": [
      "\u001b[31m---------------------------------------------------------------------------\u001b[39m",
      "\u001b[31mOverflowError\u001b[39m                             Traceback (most recent call last)",
      "\u001b[36mCell\u001b[39m\u001b[36m \u001b[39m\u001b[32mIn[4]\u001b[39m\u001b[32m, line 6\u001b[39m, in \u001b[36monChange\u001b[39m\u001b[34m(value)\u001b[39m\n\u001b[32m      4\u001b[39m add_value = value - \u001b[38;5;28mint\u001b[39m(image[\u001b[32m0\u001b[39m][\u001b[32m0\u001b[39m])\n\u001b[32m      5\u001b[39m \u001b[38;5;28mprint\u001b[39m(\u001b[33m\"\u001b[39m\u001b[33m추가 화소값:\u001b[39m\u001b[33m\"\u001b[39m, add_value)\n\u001b[32m----> \u001b[39m\u001b[32m6\u001b[39m image = \u001b[43mimage\u001b[49m\u001b[43m \u001b[49m\u001b[43m+\u001b[49m\u001b[43m \u001b[49m\u001b[43madd_value\u001b[49m\n\u001b[32m      7\u001b[39m cv2.imshow(title, image)\n",
      "\u001b[31mOverflowError\u001b[39m: Python integer -251 out of bounds for uint8"
     ]
    },
    {
     "name": "stdout",
     "output_type": "stream",
     "text": [
      "추가 화소값: -255\n"
     ]
    },
    {
     "ename": "OverflowError",
     "evalue": "Python integer -255 out of bounds for uint8",
     "output_type": "error",
     "traceback": [
      "\u001b[31m---------------------------------------------------------------------------\u001b[39m",
      "\u001b[31mOverflowError\u001b[39m                             Traceback (most recent call last)",
      "\u001b[36mCell\u001b[39m\u001b[36m \u001b[39m\u001b[32mIn[4]\u001b[39m\u001b[32m, line 6\u001b[39m, in \u001b[36monChange\u001b[39m\u001b[34m(value)\u001b[39m\n\u001b[32m      4\u001b[39m add_value = value - \u001b[38;5;28mint\u001b[39m(image[\u001b[32m0\u001b[39m][\u001b[32m0\u001b[39m])\n\u001b[32m      5\u001b[39m \u001b[38;5;28mprint\u001b[39m(\u001b[33m\"\u001b[39m\u001b[33m추가 화소값:\u001b[39m\u001b[33m\"\u001b[39m, add_value)\n\u001b[32m----> \u001b[39m\u001b[32m6\u001b[39m image = \u001b[43mimage\u001b[49m\u001b[43m \u001b[49m\u001b[43m+\u001b[49m\u001b[43m \u001b[49m\u001b[43madd_value\u001b[49m\n\u001b[32m      7\u001b[39m cv2.imshow(title, image)\n",
      "\u001b[31mOverflowError\u001b[39m: Python integer -255 out of bounds for uint8"
     ]
    }
   ],
   "source": [
    "def onChange(value):\n",
    "  global image, title\n",
    "\n",
    "  add_value = value - int(image[0][0])\n",
    "  print(\"추가 화소값:\", add_value)\n",
    "  image = image + add_value\n",
    "  cv2.imshow(title, image)\n",
    "\n",
    "image = np.zeros((300, 500), np.uint8)\n",
    "\n",
    "title = 'Trackbar Event'\n",
    "cv2.imshow(title, image)\n",
    "\n",
    "cv2.createTrackbar('Brightness', title, image[0][0], 255, onChange)\n",
    "cv2.waitKey(0)\n",
    "cv2.destroyAllWindows()"
   ]
  }
 ],
 "metadata": {
  "kernelspec": {
   "display_name": "my_opencv",
   "language": "python",
   "name": "my_opencv"
  },
  "language_info": {
   "codemirror_mode": {
    "name": "ipython",
    "version": 3
   },
   "file_extension": ".py",
   "mimetype": "text/x-python",
   "name": "python",
   "nbconvert_exporter": "python",
   "pygments_lexer": "ipython3",
   "version": "3.11.13"
  }
 },
 "nbformat": 4,
 "nbformat_minor": 5
}

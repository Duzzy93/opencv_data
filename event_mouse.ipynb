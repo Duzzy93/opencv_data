{
 "cells": [
  {
   "cell_type": "code",
   "execution_count": 1,
   "id": "cc49fb68",
   "metadata": {},
   "outputs": [],
   "source": [
    "import numpy as np\n",
    "import cv2"
   ]
  },
  {
   "cell_type": "code",
   "execution_count": 2,
   "id": "1582f7b3",
   "metadata": {},
   "outputs": [
    {
     "name": "stdout",
     "output_type": "stream",
     "text": [
      "마우스 왼쪽 버튼 누르기\n",
      "마우스 오른쪽 버튼 누르기\n",
      "마우스 오른쪽 버튼 떼기\n",
      "마우스 왼쪽 버튼 누르기\n",
      "마우스 왼쪽 버튼 더블클릭\n",
      "마우스 왼쪽 버튼 누르기\n",
      "마우스 왼쪽 버튼 더블클릭\n",
      "마우스 왼쪽 버튼 누르기\n",
      "마우스 왼쪽 버튼 더블클릭\n",
      "마우스 왼쪽 버튼 누르기\n",
      "마우스 왼쪽 버튼 더블클릭\n",
      "마우스 왼쪽 버튼 누르기\n",
      "마우스 오른쪽 버튼 누르기\n",
      "마우스 오른쪽 버튼 떼기\n",
      "마우스 왼쪽 버튼 누르기\n",
      "마우스 왼쪽 버튼 더블클릭\n",
      "마우스 왼쪽 버튼 누르기\n",
      "마우스 왼쪽 버튼 더블클릭\n",
      "마우스 왼쪽 버튼 누르기\n",
      "마우스 왼쪽 버튼 더블클릭\n",
      "마우스 왼쪽 버튼 누르기\n",
      "마우스 오른쪽 버튼 누르기\n",
      "마우스 오른쪽 버튼 떼기\n",
      "마우스 오른쪽 버튼 누르기\n",
      "마우스 오른쪽 버튼 떼기\n"
     ]
    }
   ],
   "source": [
    "def onMouse(event, x, y, flags, param):\n",
    "  if event == cv2.EVENT_LBUTTONDOWN:\n",
    "    print(\"마우스 왼쪽 버튼 누르기\")\n",
    "  elif event == cv2.EVENT_RBUTTONDOWN:\n",
    "    print(\"마우스 오른쪽 버튼 누르기\")\n",
    "  elif event == cv2.EVENT_RBUTTONUP:\n",
    "    print(\"마우스 오른쪽 버튼 떼기\")\n",
    "  elif event == cv2.EVENT_LBUTTONDBLCLK:\n",
    "    print(\"마우스 왼쪽 버튼 더블클릭\")\n",
    "\n",
    "image = np.full((200, 300), 255, np.uint8)\n",
    "\n",
    "title1, title2 = \"Mouse Event1\", \"Mouse Event2\"\n",
    "cv2.imshow(title1, image)\n",
    "cv2.imshow(title2, image)\n",
    "\n",
    "cv2.setMouseCallback(title1, onMouse)\n",
    "cv2.waitKey(0)\n",
    "cv2.destroyAllWindows()"
   ]
  }
 ],
 "metadata": {
  "kernelspec": {
   "display_name": "my_opencv",
   "language": "python",
   "name": "my_opencv"
  },
  "language_info": {
   "codemirror_mode": {
    "name": "ipython",
    "version": 3
   },
   "file_extension": ".py",
   "mimetype": "text/x-python",
   "name": "python",
   "nbconvert_exporter": "python",
   "pygments_lexer": "ipython3",
   "version": "3.11.13"
  }
 },
 "nbformat": 4,
 "nbformat_minor": 5
}

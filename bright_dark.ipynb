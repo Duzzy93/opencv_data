{
 "cells": [
  {
   "cell_type": "code",
   "execution_count": 1,
   "id": "cc49fb68",
   "metadata": {},
   "outputs": [],
   "source": [
    "import cv2"
   ]
  },
  {
   "cell_type": "code",
   "execution_count": null,
   "id": "2072c00f",
   "metadata": {},
   "outputs": [
    {
     "data": {
      "text/plain": [
       "-1"
      ]
     },
     "execution_count": 6,
     "metadata": {},
     "output_type": "execute_result"
    }
   ],
   "source": [
    "image = cv2.imread(\"images/bright.jpg\", cv2.IMREAD_GRAYSCALE)    # 영상 읽기\n",
    "if image is None: raise Exception(\"영상 파일 읽기 오류\")\n",
    "\n",
    "# OpenCV 함수 이용\n",
    "dst1 = cv2.add(image, 100)                  # 영상 밝게 saturation 방식\n",
    "dst2 = cv2.subtract(image, 100)             # 영상 어둡게\n",
    "\n",
    "# numpy array 이용\n",
    "dst3 = image + 100                           # 영상 밝게 modulo 방식\n",
    "dst4 = image - 100                           # 영상 어둡게\n",
    "\n",
    "cv2.imshow(\"original image\", image)\n",
    "cv2.imshow(\"dst1- bright: OpenCV\", dst1)\n",
    "cv2.imshow(\"dst2- dark: OpenCV\", dst2)\n",
    "cv2.imshow(\"dst3- bright: numpy\", dst3)\n",
    "cv2.imshow(\"dst4- dark: numpy\", dst4)\n",
    "cv2.waitKey(0)"
   ]
  }
 ],
 "metadata": {
  "kernelspec": {
   "display_name": "my_opencv",
   "language": "python",
   "name": "my_opencv"
  },
  "language_info": {
   "codemirror_mode": {
    "name": "ipython",
    "version": 3
   },
   "file_extension": ".py",
   "mimetype": "text/x-python",
   "name": "python",
   "nbconvert_exporter": "python",
   "pygments_lexer": "ipython3",
   "version": "3.11.13"
  }
 },
 "nbformat": 4,
 "nbformat_minor": 5
}

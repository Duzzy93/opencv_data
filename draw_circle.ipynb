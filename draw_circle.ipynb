{
 "cells": [
  {
   "cell_type": "code",
   "execution_count": 1,
   "id": "cc49fb68",
   "metadata": {},
   "outputs": [],
   "source": [
    "import numpy as np\n",
    "import cv2"
   ]
  },
  {
   "cell_type": "code",
   "execution_count": 2,
   "id": "772e8e4a",
   "metadata": {},
   "outputs": [
    {
     "data": {
      "text/plain": [
       "-1"
      ]
     },
     "execution_count": 2,
     "metadata": {},
     "output_type": "execute_result"
    }
   ],
   "source": [
    "orange, blue, cyan = (0, 165, 255), (255, 0, 0), (255, 255, 0)\n",
    "white, black = (255, 255, 255), (0, 0, 0)\n",
    "\n",
    "image = np.full((300, 500, 3), white, np.uint8)\n",
    "\n",
    "center = (image.shape[1]//2, image.shape[0]//2)\n",
    "pt1, pt2 = (300, 50), (100, 220)\n",
    "shade = (pt2[0] + 2, pt2[1] + 2)\n",
    "\n",
    "cv2.circle(image, center, 100, blue)\n",
    "cv2.circle(image, pt1, 50, orange, 2)\n",
    "cv2.circle(image, pt2, 70, cyan, -1)\n",
    "\n",
    "font = cv2.FONT_HERSHEY_COMPLEX\n",
    "cv2.putText(image, 'center_blue', center, font, 1.0, blue)\n",
    "cv2.putText(image, 'pt1_orange', pt1, font, 0.8, orange)\n",
    "cv2.putText(image, 'pt2_cyan', shade, font, 1.2, black, 2)\n",
    "cv2.putText(image, 'pt2_cyan', pt2, font, 1.2, cyan, 1)\n",
    "\n",
    "cv2.imshow(\"Draw circles\", image)\n",
    "cv2.waitKey(0)"
   ]
  }
 ],
 "metadata": {
  "kernelspec": {
   "display_name": "my_opencv",
   "language": "python",
   "name": "my_opencv"
  },
  "language_info": {
   "codemirror_mode": {
    "name": "ipython",
    "version": 3
   },
   "file_extension": ".py",
   "mimetype": "text/x-python",
   "name": "python",
   "nbconvert_exporter": "python",
   "pygments_lexer": "ipython3",
   "version": "3.11.13"
  }
 },
 "nbformat": 4,
 "nbformat_minor": 5
}

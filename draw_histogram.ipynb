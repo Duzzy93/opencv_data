{
 "cells": [
  {
   "cell_type": "code",
   "execution_count": 1,
   "id": "cc49fb68",
   "metadata": {},
   "outputs": [],
   "source": [
    "import numpy as np, cv2"
   ]
  },
  {
   "cell_type": "code",
   "execution_count": 2,
   "id": "5399cc5b",
   "metadata": {},
   "outputs": [
    {
     "data": {
      "text/plain": [
       "-1"
      ]
     },
     "execution_count": 2,
     "metadata": {},
     "output_type": "execute_result"
    }
   ],
   "source": [
    "def draw_histo(hist, shape=(200, 256)):\n",
    "    hist_img = np.full( shape, 255, np.uint8)\n",
    "    cv2.normalize(hist, hist, 0, shape[0], cv2.NORM_MINMAX)\n",
    "    gap = hist_img.shape[1]/hist.shape[0]             # 한 계급 너비\n",
    "\n",
    "    for i, h in enumerate(hist.flat):\n",
    "        x = int(round(i * gap))                         # 막대 사각형 시작 x 좌표\n",
    "        w = int(round(gap))\n",
    "        cv2.rectangle(hist_img, (x, 0, w, int(h)), 0, cv2.FILLED)\n",
    "    return   cv2.flip(hist_img, 0)                        # 영상 상하 뒤집기 후 반환\n",
    "\n",
    "image = cv2.imread(\"images/draw_hist.jpg\", cv2.IMREAD_GRAYSCALE)  # 영상 읽기\n",
    "if image is None: raise Exception(\"영상 파일 읽기 오류\")\n",
    "    \n",
    "hist = cv2.calcHist([image], [0], None, [32], [0, 256])\n",
    "hist_img = draw_histo(hist)\n",
    "\n",
    "cv2.imshow(\"image\", image)\n",
    "cv2.imshow(\"hist_img\", hist_img)\n",
    "cv2.waitKey(0)"
   ]
  }
 ],
 "metadata": {
  "kernelspec": {
   "display_name": "my_opencv",
   "language": "python",
   "name": "my_opencv"
  },
  "language_info": {
   "codemirror_mode": {
    "name": "ipython",
    "version": 3
   },
   "file_extension": ".py",
   "mimetype": "text/x-python",
   "name": "python",
   "nbconvert_exporter": "python",
   "pygments_lexer": "ipython3",
   "version": "3.11.13"
  }
 },
 "nbformat": 4,
 "nbformat_minor": 5
}

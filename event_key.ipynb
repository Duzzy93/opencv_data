{
 "cells": [
  {
   "cell_type": "code",
   "execution_count": 1,
   "id": "cc49fb68",
   "metadata": {},
   "outputs": [],
   "source": [
    "import numpy as np\n",
    "import cv2"
   ]
  },
  {
   "cell_type": "code",
   "execution_count": 5,
   "id": "34790584",
   "metadata": {},
   "outputs": [
    {
     "name": "stdout",
     "output_type": "stream",
     "text": [
      "a키 입력\n",
      "b키 입력\n",
      "A키 입력\n",
      "B키 입력\n",
      "윗쪽 화살표키 입력\n",
      "왼쪽 화살표키 입력\n",
      "아래쪽 화살표키 입력\n",
      "오른쪽 화살표키 입력\n",
      "윗쪽 화살표키 입력\n",
      "왼쪽 화살표키 입력\n",
      "아래쪽 화살표키 입력\n",
      "오른쪽 화살표키 입력\n",
      "윗쪽 화살표키 입력\n",
      "왼쪽 화살표키 입력\n",
      "a키 입력\n",
      "b키 입력\n",
      "B키 입력\n",
      "a키 입력\n",
      "A키 입력\n",
      "B키 입력\n",
      "A키 입력\n",
      "B키 입력\n",
      "A키 입력\n",
      "윗쪽 화살표키 입력\n",
      "왼쪽 화살표키 입력\n",
      "오른쪽 화살표키 입력\n",
      "왼쪽 화살표키 입력\n",
      "오른쪽 화살표키 입력\n",
      "윗쪽 화살표키 입력\n",
      "왼쪽 화살표키 입력\n",
      "오른쪽 화살표키 입력\n",
      "윗쪽 화살표키 입력\n",
      "왼쪽 화살표키 입력\n",
      "a키 입력\n",
      "오른쪽 화살표키 입력\n",
      "윗쪽 화살표키 입력\n",
      "b키 입력\n",
      "왼쪽 화살표키 입력\n",
      "아래쪽 화살표키 입력\n",
      "a키 입력\n",
      "오른쪽 화살표키 입력\n",
      "b키 입력\n",
      "윗쪽 화살표키 입력\n",
      "a키 입력\n",
      "왼쪽 화살표키 입력\n",
      "b키 입력\n",
      "아래쪽 화살표키 입력\n",
      "오른쪽 화살표키 입력\n",
      "a키 입력\n",
      "오른쪽 화살표키 입력\n",
      "b키 입력\n",
      "윗쪽 화살표키 입력\n",
      "a키 입력\n",
      "왼쪽 화살표키 입력\n",
      "오른쪽 화살표키 입력\n",
      "b키 입력\n",
      "아래쪽 화살표키 입력\n"
     ]
    },
    {
     "ename": "KeyboardInterrupt",
     "evalue": "",
     "output_type": "error",
     "traceback": [
      "\u001b[31m---------------------------------------------------------------------------\u001b[39m",
      "\u001b[31mKeyboardInterrupt\u001b[39m                         Traceback (most recent call last)",
      "\u001b[36mCell\u001b[39m\u001b[36m \u001b[39m\u001b[32mIn[5]\u001b[39m\u001b[32m, line 18\u001b[39m\n\u001b[32m     15\u001b[39m cv2.imshow(\u001b[33m'\u001b[39m\u001b[33mKeyboard Event\u001b[39m\u001b[33m'\u001b[39m, image)\n\u001b[32m     17\u001b[39m \u001b[38;5;28;01mwhile\u001b[39;00m \u001b[38;5;28;01mTrue\u001b[39;00m:\n\u001b[32m---> \u001b[39m\u001b[32m18\u001b[39m   key = \u001b[43mcv2\u001b[49m\u001b[43m.\u001b[49m\u001b[43mwaitKeyEx\u001b[49m\u001b[43m(\u001b[49m\u001b[32;43m100\u001b[39;49m\u001b[43m)\u001b[49m\n\u001b[32m     19\u001b[39m   \u001b[38;5;28;01mif\u001b[39;00m key == \u001b[32m27\u001b[39m: \u001b[38;5;28;01mbreak\u001b[39;00m\n\u001b[32m     21\u001b[39m   \u001b[38;5;28;01mtry\u001b[39;00m:\n",
      "\u001b[31mKeyboardInterrupt\u001b[39m: "
     ]
    }
   ],
   "source": [
    "## switch case문을 사전(dictionary)으로 구현\n",
    "switch_case = {\n",
    "  ord('a'): \"a키 입력\",\n",
    "  ord('b'): \"b키 입력\",\n",
    "  0x41: \"A키 입력\",\n",
    "  int('0x42', 16): \"B키 입력\",\n",
    "  2424832: \"왼쪽 화살표키 입력\",\n",
    "  2490368: \"윗쪽 화살표키 입력\",\n",
    "  2555904: \"오른쪽 화살표키 입력\",\n",
    "  2621440: \"아래쪽 화살표키 입력\",\n",
    "}\n",
    "\n",
    "image = np.ones((200, 300), np.float32)\n",
    "cv2.namedWindow('Keyboard Event')\n",
    "cv2.imshow('Keyboard Event', image)\n",
    "\n",
    "while True:\n",
    "  key = cv2.waitKeyEx(100)\n",
    "  if key == 27: break\n",
    "\n",
    "  try:\n",
    "    result = switch_case[key]\n",
    "    print(result)\n",
    "  except KeyError:\n",
    "    result = -1\n",
    "\n",
    "cv2.destroyAllWindows()"
   ]
  }
 ],
 "metadata": {
  "kernelspec": {
   "display_name": "my_opencv",
   "language": "python",
   "name": "my_opencv"
  },
  "language_info": {
   "codemirror_mode": {
    "name": "ipython",
    "version": 3
   },
   "file_extension": ".py",
   "mimetype": "text/x-python",
   "name": "python",
   "nbconvert_exporter": "python",
   "pygments_lexer": "ipython3",
   "version": "3.11.13"
  }
 },
 "nbformat": 4,
 "nbformat_minor": 5
}

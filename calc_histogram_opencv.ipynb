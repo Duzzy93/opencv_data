{
 "cells": [
  {
   "cell_type": "code",
   "execution_count": 1,
   "id": "cc49fb68",
   "metadata": {},
   "outputs": [],
   "source": [
    "import numpy as np, cv2"
   ]
  },
  {
   "cell_type": "code",
   "execution_count": 4,
   "id": "c2f3a878",
   "metadata": {},
   "outputs": [
    {
     "name": "stdout",
     "output_type": "stream",
     "text": [
      "User 함수: \n",
      " [  97.  247.  563. 1001. 1401. 1575. 1724. 1951. 2853. 3939. 3250. 2549.\n",
      " 2467. 2507. 2402. 2418. 2727. 3203. 3410. 3161. 2985. 2590. 3384. 4312.\n",
      " 4764. 3489. 2802. 2238. 1127.  628.  199.   37.]\n",
      "OpenCV 함수: \n",
      " [  97.  247.  563. 1001. 1401. 1575. 1724. 1951. 2853. 3939. 3250. 2549.\n",
      " 2467. 2507. 2402. 2418. 2727. 3203. 3410. 3161. 2985. 2590. 3384. 4312.\n",
      " 4764. 3489. 2802. 2238. 1127.  628.  199.   37.]\n",
      "numpy 함수: \n",
      " [  97.  247.  563. 1001. 1401. 1575. 1724. 1951. 2853. 3939. 3250. 2549.\n",
      " 2467. 2507. 2402. 2418. 2727. 3203. 3410. 3161. 2985. 2590. 3384. 4312.\n",
      " 4764. 3489. 2802. 2238. 1127.  628.  199.   37.]\n"
     ]
    },
    {
     "data": {
      "text/plain": [
       "-1"
      ]
     },
     "execution_count": 4,
     "metadata": {},
     "output_type": "execute_result"
    }
   ],
   "source": [
    "def calc_histo(image, hsize, ranges=[0, 256]):  # 행렬 원소의 1차원 히스토그램 계산\n",
    "    hist = np.zeros((hsize, 1), np.float32)  # 히스토그램 누적 행렬\n",
    "    gap = ranges[1]/hsize  # 계급 간격\n",
    "\n",
    "    for i in (image/gap).flat:\n",
    "        hist[int(i)] += 1\n",
    "    return hist\n",
    "\n",
    "\n",
    "image = cv2.imread(\"images/pixel.jpg\", cv2.IMREAD_GRAYSCALE) # 영상 읽기\n",
    "if image is None: raise Exception(\"영상 파일 읽기 오류 발생\")\n",
    "\n",
    "hsize, ranges = [32], [0, 256]                  # 히스토그램 간격수, 값 범위\n",
    "gap = ranges[1]/hsize[0]\n",
    "ranges_gap  = np.arange(0, ranges[1]+1, gap)\n",
    "hist1 = calc_histo(image, hsize[0], ranges)  # User 함수\n",
    "hist2 = cv2.calcHist([image], [0], None, hsize, ranges)  # OpenCV 함수\n",
    "hist3, bins = np.histogram(image, ranges_gap )\n",
    "\n",
    "print(\"User 함수: \\n\", hist1.flatten())                  # 행렬을 벡터로 변환하여 출력\n",
    "print(\"OpenCV 함수: \\n\", hist2.flatten())                # 행렬을 벡터로 변환하여 출력\n",
    "print(\"numpy 함수: \\n\", hist3.astype(float))             # 행렬을 벡터로 변환하여 출력\n",
    "\n",
    "cv2.imshow(\"image\", image)\n",
    "cv2.waitKey(0)"
   ]
  }
 ],
 "metadata": {
  "kernelspec": {
   "display_name": "my_opencv",
   "language": "python",
   "name": "my_opencv"
  },
  "language_info": {
   "codemirror_mode": {
    "name": "ipython",
    "version": 3
   },
   "file_extension": ".py",
   "mimetype": "text/x-python",
   "name": "python",
   "nbconvert_exporter": "python",
   "pygments_lexer": "ipython3",
   "version": "3.11.13"
  }
 },
 "nbformat": 4,
 "nbformat_minor": 5
}

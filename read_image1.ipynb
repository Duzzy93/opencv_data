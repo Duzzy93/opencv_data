{
 "cells": [
  {
   "cell_type": "code",
   "execution_count": 1,
   "id": "cc49fb68",
   "metadata": {},
   "outputs": [],
   "source": [
    "import cv2, numpy as np"
   ]
  },
  {
   "cell_type": "code",
   "execution_count": 7,
   "id": "9cb6884b",
   "metadata": {},
   "outputs": [
    {
     "name": "stdout",
     "output_type": "stream",
     "text": [
      "행렬 좌표 (100, 100) 화소값\n",
      "gray2gray 106\n",
      "gray2color [106 106 106]\n",
      "\n",
      "   gray2gray: depth(uint8), channels(1) -> mat_type(CV_8UC1)\n",
      "  gray2color: depth(uint8), channels(3) -> mat_type(CV_8UC3)\n"
     ]
    },
    {
     "data": {
      "text/plain": [
       "-1"
      ]
     },
     "execution_count": 7,
     "metadata": {},
     "output_type": "execute_result"
    }
   ],
   "source": [
    "def print_matInfo(name, image):\n",
    "    if image.dtype == 'uint8':     mat_type = \"CV_8U\"\n",
    "    elif image.dtype == 'int8':    mat_type = \"CV_8S\"\n",
    "    elif image.dtype == 'uint16':  mat_type = \"CV_16U\"\n",
    "    elif image.dtype == 'int16':   mat_type = \"CV_16S\"\n",
    "    elif image.dtype == 'float32': mat_type = \"CV_32F\"\n",
    "    elif image.dtype == 'float64': mat_type = \"CV_64F\"\n",
    "    nchannel = 3 if image.ndim == 3 else 1\n",
    "\n",
    "    print(\"%12s: depth(%s), channels(%s) -> mat_type(%sC%d)\"\n",
    "          % (name, image.dtype, nchannel, mat_type,  nchannel))\n",
    "\n",
    "title1, title2 = \"gray2gray\", \"gray2color\"\n",
    "gray2gray  = cv2.imread(\"images/read_gray.jpg\", cv2.IMREAD_GRAYSCALE)\n",
    "gray2color = cv2.imread(\"images/read_gray.jpg\", cv2.IMREAD_COLOR)\n",
    "\n",
    "if (gray2gray is None or gray2color is None) :\n",
    "    raise Exception(\"영상파일 읽기 에러\")\n",
    "\n",
    "print(\"행렬 좌표 (100, 100) 화소값\")\n",
    "print(\"%s %s\" % (title1, gray2gray[100, 100]))\n",
    "print(\"%s %s\\n\" % (title2, gray2color[100, 100]))\n",
    "\n",
    "print_matInfo(title1, gray2gray)\n",
    "print_matInfo(title2, gray2color)\n",
    "\n",
    "cv2.imshow(title1, gray2gray)\n",
    "cv2.imshow(title2, gray2color)\n",
    "cv2.waitKey(0)"
   ]
  }
 ],
 "metadata": {
  "kernelspec": {
   "display_name": "my_opencv",
   "language": "python",
   "name": "my_opencv"
  },
  "language_info": {
   "codemirror_mode": {
    "name": "ipython",
    "version": 3
   },
   "file_extension": ".py",
   "mimetype": "text/x-python",
   "name": "python",
   "nbconvert_exporter": "python",
   "pygments_lexer": "ipython3",
   "version": "3.11.13"
  }
 },
 "nbformat": 4,
 "nbformat_minor": 5
}

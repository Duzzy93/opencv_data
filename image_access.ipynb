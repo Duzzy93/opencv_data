{
 "cells": [
  {
   "cell_type": "code",
   "execution_count": 1,
   "id": "cc49fb68",
   "metadata": {},
   "outputs": [],
   "source": [
    "import numpy as np, cv2, time"
   ]
  },
  {
   "cell_type": "code",
   "execution_count": 4,
   "id": "f45f6545",
   "metadata": {},
   "outputs": [
    {
     "name": "stdout",
     "output_type": "stream",
     "text": [
      "[방법 1] 직접 접근 방식 수행시간 : 86.07 ms\n",
      "[방법 3] 룩업 테이블 방식 수행시간 : 0.61 ms\n",
      "[방법 4] OpenCV 함수 방식 수행시간 : 0.07 ms\n",
      "[방법 5] ndarray 연산 방식 수행시간 : 0.11 ms\n"
     ]
    },
    {
     "data": {
      "text/plain": [
       "-1"
      ]
     },
     "execution_count": 4,
     "metadata": {},
     "output_type": "execute_result"
    }
   ],
   "source": [
    "def pixel_access1(image):\n",
    "    image1 = np.zeros(image.shape[:2], image.dtype)\n",
    "    for i in range(image.shape[0]):\n",
    "        for j in range(image.shape[1]):\n",
    "            pixel = image[i,j]                  # 화소 접근\n",
    "            image1[i, j] =  255 - pixel            # 화소 할당\n",
    "    return image1\n",
    "\n",
    "def pixel_access2(image):\n",
    "    image2 = np.zeros(image.shape[:2], image.dtype)\n",
    "    for i in range(image.shape[0]):\n",
    "        for j in range(image.shape[1]):\n",
    "            pixel = image.item(i, j)  # 화소 접근\n",
    "            image2.itemset((i, j),  255 - pixel)  # 화소 할당\n",
    "    return image2\n",
    "\n",
    "def pixel_access3(image):\n",
    "    lut = [255 - i for i in range(256)]  # 룩업테이블 생성\n",
    "    lut = np.array(lut, np.uint8)\n",
    "    image3 = lut[image]\n",
    "    return image3\n",
    "\n",
    "def pixel_access4(image):\n",
    "    image4 = cv2.subtract(255, image)\n",
    "    return image4\n",
    "\n",
    "def pixel_access5(image):\n",
    "    image5 = 255 - image\n",
    "    return image5\n",
    "\n",
    "image = cv2.imread(\"images/bright.jpg\", cv2.IMREAD_GRAYSCALE)\n",
    "if image is None: raise Exception(\"영상 파일 읽기 오류 발생\")\n",
    "\n",
    "# 수행시간 체크\n",
    "def time_check(func, msg):\n",
    "    start_time = time.perf_counter()\n",
    "    ret_img = func(image)\n",
    "    elapsed = (time.perf_counter() - start_time) * 1000\n",
    "    print(msg, \"수행시간 : %.2f ms\" % elapsed)\n",
    "    return ret_img\n",
    "\n",
    "image1 = time_check(pixel_access1, \"[방법 1] 직접 접근 방식\")\n",
    "# image2 = time_check(pixel_access2, \"[방법 2] item() 함수 방식\")\n",
    "image3 = time_check(pixel_access3, \"[방법 3] 룩업 테이블 방식\")\n",
    "image4 = time_check(pixel_access4, \"[방법 4] OpenCV 함수 방식\")\n",
    "image5 = time_check(pixel_access5, \"[방법 5] ndarray 연산 방식\")\n",
    "\n",
    "# 결과 영상 보기\n",
    "cv2.imshow(\"image  - original\", image)\n",
    "cv2.imshow(\"image1 - directly access to pixel\", image1)\n",
    "# cv2.imshow(\"image2 - item()/itemset()\", image2)\n",
    "cv2.imshow(\"image3 - LUT\", image3)\n",
    "cv2.imshow(\"image4 - OpenCV\", image4)\n",
    "cv2.imshow(\"image5 - ndarray 방식\", image5)\n",
    "cv2.waitKey(0)"
   ]
  }
 ],
 "metadata": {
  "kernelspec": {
   "display_name": "my_opencv",
   "language": "python",
   "name": "my_opencv"
  },
  "language_info": {
   "codemirror_mode": {
    "name": "ipython",
    "version": 3
   },
   "file_extension": ".py",
   "mimetype": "text/x-python",
   "name": "python",
   "nbconvert_exporter": "python",
   "pygments_lexer": "ipython3",
   "version": "3.11.13"
  }
 },
 "nbformat": 4,
 "nbformat_minor": 5
}

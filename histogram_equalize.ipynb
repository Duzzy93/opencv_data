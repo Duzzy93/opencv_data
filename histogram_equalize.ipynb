{
 "cells": [
  {
   "cell_type": "code",
   "execution_count": 1,
   "id": "cc49fb68",
   "metadata": {},
   "outputs": [],
   "source": [
    "import numpy as np, cv2"
   ]
  },
  {
   "cell_type": "code",
   "execution_count": 2,
   "id": "07c0daeb",
   "metadata": {},
   "outputs": [
    {
     "data": {
      "text/plain": [
       "-1"
      ]
     },
     "execution_count": 2,
     "metadata": {},
     "output_type": "execute_result"
    }
   ],
   "source": [
    "def draw_histo(hist, size=(200, 256)):\n",
    "    hist_img = np.full((size[0], size[1]), 255, dtype=np.uint8)\n",
    "    hist = cv2.normalize(hist, None, 0, size[0], cv2.NORM_MINMAX).flatten()\n",
    "\n",
    "    bin_width = int(np.round(size[1] / hist.shape[0]))\n",
    "    for i in range(hist.shape[0]):\n",
    "        x = i * bin_width\n",
    "        y = size[0] - int(hist[i])\n",
    "        cv2.rectangle(hist_img, (x, y), (x + bin_width - 1, size[0]), 0, -1)\n",
    "    return hist_img\n",
    "\n",
    "image = cv2.imread(\"images/equalize.jpg\", cv2.IMREAD_GRAYSCALE) # 영상 읽기\n",
    "if image is None: raise Exception(\"영상 파일 읽기 오류\")\n",
    "\n",
    "bins, ranges = [256], [0, 256]\n",
    "hist = cv2.calcHist([image], [0], None, bins, ranges)    # 히스토그램 계산\n",
    "\n",
    "# 히스토그램 누적합 계산\n",
    "accum_hist = np.zeros(hist.shape[:2], np.float32)\n",
    "accum_hist[0] = hist[0]\n",
    "for i in range(1, hist.shape[0]):\n",
    "    accum_hist[i] = accum_hist[i - 1] + hist[i]\n",
    "\n",
    "accum_hist = (accum_hist / sum(hist)) * 255                 # 누적합의 정규화\n",
    "dst1 = [[accum_hist[val] for val in row] for row in image] # 화소값 할당\n",
    "dst1 = np.array(dst1, np.uint8)\n",
    "\n",
    "# numpy 함수 사용\n",
    "#accum_hist = np.cumsum(hist)                      # 누적합 계산\n",
    "#cv2.normalize(accum_hist, accum_hist, 0, 255, cv2.NORM_MINMAX)  # 정규화\n",
    "\n",
    "dst1 = cv2.LUT(image, accum_hist.astype(\"uint8\"))  #룩업 테이블로 화소값할당\n",
    "# dit1 = image[accum_hist.astype('uint8')]         # 파이썬 방식 록업테이블\n",
    "dst2 = cv2.equalizeHist(image)                # OpenCV 히스토그램 평활화\n",
    "\n",
    "hist1 = cv2.calcHist([dst1], [0], None, bins, ranges)   # 히스토그램 계산\n",
    "hist2 = cv2.calcHist([dst2], [0], None, bins, ranges)   # 히스토그램 계산\n",
    "hist_img = draw_histo(hist)\n",
    "hist_img1 = draw_histo(hist1)\n",
    "hist_img2 = draw_histo(hist2)\n",
    "\n",
    "cv2.imshow(\"image\", image);             cv2.imshow(\"hist_img\", hist_img)\n",
    "cv2.imshow(\"dst1_User\", dst1);          cv2.imshow(\"User_hist\", hist_img1)\n",
    "cv2.imshow(\"dst2_OpenCV\", dst2);        cv2.imshow(\"OpenCV_hist\", hist_img2)\n",
    "cv2.waitKey(0)"
   ]
  }
 ],
 "metadata": {
  "kernelspec": {
   "display_name": "my_opencv",
   "language": "python",
   "name": "my_opencv"
  },
  "language_info": {
   "codemirror_mode": {
    "name": "ipython",
    "version": 3
   },
   "file_extension": ".py",
   "mimetype": "text/x-python",
   "name": "python",
   "nbconvert_exporter": "python",
   "pygments_lexer": "ipython3",
   "version": "3.11.13"
  }
 },
 "nbformat": 4,
 "nbformat_minor": 5
}

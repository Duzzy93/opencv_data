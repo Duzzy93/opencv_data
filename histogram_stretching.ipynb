{
 "cells": [
  {
   "cell_type": "code",
   "execution_count": 1,
   "id": "3a11dfce",
   "metadata": {},
   "outputs": [],
   "source": [
    "import numpy as np, cv2"
   ]
  },
  {
   "cell_type": "code",
   "execution_count": 2,
   "id": "29425b3d",
   "metadata": {},
   "outputs": [
    {
     "name": "stdout",
     "output_type": "stream",
     "text": [
      "high_value =  180.0\n",
      "low_value =  52.0\n"
     ]
    },
    {
     "data": {
      "text/plain": [
       "-1"
      ]
     },
     "execution_count": 2,
     "metadata": {},
     "output_type": "execute_result"
    }
   ],
   "source": [
    "def draw_histo(hist, size=(200, 256)):\n",
    "    hist_img = np.full((size[0], size[1]), 255, dtype=np.uint8)\n",
    "    hist = cv2.normalize(hist, None, 0, size[0], cv2.NORM_MINMAX).flatten()\n",
    "\n",
    "    bin_width = int(np.round(size[1] / hist.shape[0]))\n",
    "    for i in range(hist.shape[0]):\n",
    "        x = i * bin_width\n",
    "        y = size[0] - int(hist[i])\n",
    "        cv2.rectangle(hist_img, (x, y), (x + bin_width - 1, size[0]), 0, -1)\n",
    "    return hist_img\n",
    "def search_value_idx(hist, bias = 0):\n",
    "    for i in range(hist.shape[0]):\n",
    "        idx = np.abs(bias - i)                     # 검색 위치 (처음 또는 마지막)\n",
    "        if hist[idx] > 0:  return idx                             # 위치 반환\n",
    "    return -1                                      # 대상 없으면 반환\n",
    "\n",
    "image = cv2.imread(\"images/hist_stretch.jpg\", cv2.IMREAD_GRAYSCALE)   # 영상읽기\n",
    "if image is None: raise Exception(\"영상 파일 읽기 오류\")\n",
    "\n",
    "bsize, ranges = [64], [0,256]                        # 계급 개수 및 화소 범위\n",
    "hist = cv2.calcHist([image], [0], None, bsize, ranges)\n",
    "\n",
    "bin_width  = ranges[1]/bsize[0]                      # 계급 너비\n",
    "high = search_value_idx(hist, bsize[0] - 1) * bin_width\n",
    "low  = search_value_idx(hist, 0) * bin_width\n",
    "\n",
    "idx = np.arange(0, 256)\n",
    "idx = (idx - low) * 255/(high-low)\t# 수식 적용하여 인덱스 생성\n",
    "idx[0:int(low)] = 0\n",
    "idx[int(high+1):] = 255\n",
    "\n",
    "dst = cv2.LUT(image, idx.astype('uint8'))\n",
    "# dst = idx.astype('uint8')[image]                #\n",
    "\n",
    "## 룩업 테이블 사용하지 않고 직접 구현\n",
    "# dst = np.zeros(image.shape, dtype=image.dtype)\n",
    "# for i in range(dst.shape[0]):\n",
    "#     for j in range(dst.shape[1]):\n",
    "#         dst[i,j] = idx[image[i,j]]\n",
    "\n",
    "hist_dst = cv2.calcHist([dst], [0], None, bsize, ranges)  # 결과 영상 히스토그램 재계산\n",
    "hist_img = draw_histo(hist, (200,360))          # 원본 영상 히스토그램 그리기\n",
    "hist_dst_img = draw_histo(hist_dst,(200,360))  # 결과 영상 히스토그램 그리기\n",
    "\n",
    "print(\"high_value = \", high)\n",
    "print(\"low_value = \" , low)\n",
    "cv2.imshow(\"image\", image);         cv2.imshow(\"hist_img\", hist_img)\n",
    "cv2.imshow(\"dst\", dst);             cv2.imshow(\"hist_dst_img\", hist_dst_img)\n",
    "cv2.waitKey(0)"
   ]
  }
 ],
 "metadata": {
  "kernelspec": {
   "display_name": "my_opencv",
   "language": "python",
   "name": "my_opencv"
  },
  "language_info": {
   "codemirror_mode": {
    "name": "ipython",
    "version": 3
   },
   "file_extension": ".py",
   "mimetype": "text/x-python",
   "name": "python",
   "nbconvert_exporter": "python",
   "pygments_lexer": "ipython3",
   "version": "3.11.13"
  }
 },
 "nbformat": 4,
 "nbformat_minor": 5
}

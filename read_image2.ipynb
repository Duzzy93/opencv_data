{
 "cells": [
  {
   "cell_type": "code",
   "execution_count": 1,
   "id": "cc49fb68",
   "metadata": {},
   "outputs": [],
   "source": [
    "import cv2\n",
    "from Common.utils import print_matInfo"
   ]
  },
  {
   "cell_type": "code",
   "execution_count": null,
   "id": "af26f558",
   "metadata": {},
   "outputs": [
    {
     "name": "stdout",
     "output_type": "stream",
     "text": [
      "행렬 좌표 (100, 100) 화소값\n",
      "color2gray 137\n",
      "color2color [197 145  98]\n",
      "\n",
      "color2gray 정보:\n",
      " - Shape: (300, 400)\n",
      " - Dtype: uint8\n",
      " - Size: 120000\n",
      " - Type: <class 'numpy.ndarray'>\n",
      "color2color 정보:\n",
      " - Shape: (300, 400, 3)\n",
      " - Dtype: uint8\n",
      " - Size: 360000\n",
      " - Type: <class 'numpy.ndarray'>\n"
     ]
    },
    {
     "data": {
      "text/plain": [
       "-1"
      ]
     },
     "execution_count": 2,
     "metadata": {},
     "output_type": "execute_result"
    }
   ],
   "source": [
    "title1, title2 = \"color2gray\", \"color2color\"\n",
    "color2gray = cv2.imread(\"images/read_color.jpg\", cv2.IMREAD_GRAYSCALE)\n",
    "color2color = cv2.imread(\"images/read_color.jpg\", cv2.IMREAD_COLOR)\n",
    "if color2gray is None or color2color is None:\n",
    "    raise Exception(\"영상 파일 읽기 에러\")\n",
    "\n",
    "print(\"행렬 좌표 (100, 100) 화소값\")\n",
    "print(\"%s %s\" % (title1, color2gray[100, 100]))\n",
    "print(\"%s %s\\n\" % (title2, color2color[100, 100]))\n",
    "\n",
    "print_matInfo(title1, color2gray)\n",
    "print_matInfo(title2, color2color)\n",
    "cv2.imshow(title1, color2gray)\n",
    "cv2.imshow(title2, color2color)\n",
    "cv2.waitKey(0)"
   ]
  }
 ],
 "metadata": {
  "kernelspec": {
   "display_name": "my_opencv",
   "language": "python",
   "name": "my_opencv"
  },
  "language_info": {
   "codemirror_mode": {
    "name": "ipython",
    "version": 3
   },
   "file_extension": ".py",
   "mimetype": "text/x-python",
   "name": "python",
   "nbconvert_exporter": "python",
   "pygments_lexer": "ipython3",
   "version": "3.11.13"
  }
 },
 "nbformat": 4,
 "nbformat_minor": 5
}

{
 "cells": [
  {
   "cell_type": "code",
   "execution_count": 1,
   "id": "cc49fb68",
   "metadata": {},
   "outputs": [],
   "source": [
    "import numpy as np, cv2"
   ]
  },
  {
   "cell_type": "code",
   "execution_count": 3,
   "id": "1a0c561e",
   "metadata": {},
   "outputs": [
    {
     "data": {
      "text/plain": [
       "-1"
      ]
     },
     "execution_count": 3,
     "metadata": {},
     "output_type": "execute_result"
    }
   ],
   "source": [
    "image1 = np.zeros((300, 300), np.uint8)     \t\t# 300행, 300열 검은색 영상 생성\n",
    "image2 = image1.copy()\n",
    "\n",
    "h, w = image1.shape[:2]\n",
    "cx,cy  = w//2, h//2\n",
    "cv2.circle(image1, (cx,cy), 100, 255, -1)      \t\t# 중심에 원 그리기\n",
    "cv2.rectangle(image2, (0,0, cx, h), 255, -1)\n",
    "\n",
    "image3 = cv2.bitwise_or(image1, image2)     \t# 원소 간 논리합\n",
    "image4 = cv2.bitwise_and(image1, image2)    \t# 원소 간 논리곱\n",
    "image5 = cv2.bitwise_xor(image1, image2)    \t# 원소 간 배타적 논리합\n",
    "image6 = cv2.bitwise_not(image1)            \t# 행렬 반전\n",
    "\n",
    "cv2.imshow(\"image1\", image1);\t\tcv2.imshow(\"image2\", image2)\n",
    "cv2.imshow(\"bitwise_or\", image3);\tcv2.imshow(\"bitwise_and\", image4)\n",
    "cv2.imshow(\"bitwise_xor\", image5);\tcv2.imshow(\"bitwise_not\", image6)\n",
    "cv2.waitKey(0)"
   ]
  }
 ],
 "metadata": {
  "kernelspec": {
   "display_name": "my_opencv",
   "language": "python",
   "name": "my_opencv"
  },
  "language_info": {
   "codemirror_mode": {
    "name": "ipython",
    "version": 3
   },
   "file_extension": ".py",
   "mimetype": "text/x-python",
   "name": "python",
   "nbconvert_exporter": "python",
   "pygments_lexer": "ipython3",
   "version": "3.11.13"
  }
 },
 "nbformat": 4,
 "nbformat_minor": 5
}

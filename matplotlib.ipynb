{
 "cells": [
  {
   "cell_type": "code",
   "execution_count": 1,
   "id": "48f958f0",
   "metadata": {},
   "outputs": [],
   "source": [
    "#!pip install pyqt5"
   ]
  },
  {
   "cell_type": "code",
   "execution_count": 2,
   "id": "cc49fb68",
   "metadata": {},
   "outputs": [],
   "source": [
    "import cv2\n",
    "import matplotlib.pyplot as plt"
   ]
  },
  {
   "cell_type": "code",
   "execution_count": 3,
   "id": "76ecaa93",
   "metadata": {},
   "outputs": [],
   "source": [
    "%matplotlib widget\n",
    "%matplotlib qt"
   ]
  },
  {
   "cell_type": "code",
   "execution_count": 5,
   "metadata": {},
   "outputs": [],
   "source": [
    "image  = cv2.imread(\"images/matplot.jpg\", cv2.IMREAD_COLOR)\n",
    "if image is None: raise Exception(\"영상 파일 읽기 에러\")\n",
    "\n",
    "rows, cols = image.shape[:2]\n",
    "rgb_img = cv2.cvtColor(image,cv2.COLOR_BGR2RGB)\n",
    "gray_img = cv2.cvtColor(image,cv2.COLOR_BGR2GRAY)"
   ]
  },
  {
   "cell_type": "code",
   "execution_count": 6,
   "id": "d2291d24",
   "metadata": {},
   "outputs": [
    {
     "data": {
      "text/plain": [
       "((np.float64(-0.5), np.float64(239.5), np.float64(299.5), np.float64(-0.5)),\n",
       " None)"
      ]
     },
     "execution_count": 6,
     "metadata": {},
     "output_type": "execute_result"
    }
   ],
   "source": [
    "fig = plt.figure(num=1, figsize=(3,4))\n",
    "plt.imshow(image ), plt.title('figure1- original(bgr)')\n",
    "plt.axis('off'), plt.tight_layout()"
   ]
  },
  {
   "cell_type": "code",
   "execution_count": 7,
   "id": "1ae6d5f7",
   "metadata": {},
   "outputs": [],
   "source": [
    "fig = plt.figure(num=2, figsize=(6,4))\n",
    "plt.suptitle( 'figure2- pyplot image display')\n",
    "plt.subplot(1,2,1), plt.imshow(rgb_img)\n",
    "plt.axis([0,cols, rows,0]), plt.title('rgb color')\n",
    "plt.subplot(1,2,2), plt.imshow(gray_img, cmap='gray')\n",
    "plt.title('gray_img2')\n",
    "plt.show()"
   ]
  }
 ],
 "metadata": {
  "kernelspec": {
   "display_name": "my_opencv",
   "language": "python",
   "name": "my_opencv"
  },
  "language_info": {
   "codemirror_mode": {
    "name": "ipython",
    "version": 3
   },
   "file_extension": ".py",
   "mimetype": "text/x-python",
   "name": "python",
   "nbconvert_exporter": "python",
   "pygments_lexer": "ipython3",
   "version": "3.11.13"
  }
 },
 "nbformat": 4,
 "nbformat_minor": 5
}
